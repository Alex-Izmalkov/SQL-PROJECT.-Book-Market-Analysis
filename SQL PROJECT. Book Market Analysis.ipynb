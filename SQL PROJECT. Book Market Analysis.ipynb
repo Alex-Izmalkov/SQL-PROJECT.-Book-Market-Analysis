{
 "cells": [
  {
   "cell_type": "markdown",
   "id": "79ea5c58",
   "metadata": {},
   "source": [
    "# SQL PROJECT. Book Market Analysis."
   ]
  },
  {
   "cell_type": "markdown",
   "id": "a729edf5",
   "metadata": {},
   "source": [
    "# Task Description\n",
    "\n",
    "- To find the number of books released after January 1, 2000.\n",
    "- To find the number of user reviews and the average rating for each book.\n",
    "- To identify the publisher that has released the greatest number of books with more than 50 pages (this will help you exclude brochures and similar publications from your analysis).\n",
    "- To identify the author with the highest average book rating (look only at books with at least 50 ratings).\n",
    "- To find the average number of text reviews among users who rated more than 50 books."
   ]
  },
  {
   "cell_type": "code",
   "execution_count": 1,
   "id": "90564ac6",
   "metadata": {},
   "outputs": [],
   "source": [
    "import pandas as pd\n",
    "from sqlalchemy import create_engine\n",
    "\n",
    "db_config = {'user': 'praktikum_student',        \n",
    "             'pwd': 'Sdf4$2;d-d30pp',\n",
    "             'host': 'rc1b-wcoijxj3yxfsf3fs.mdb.yandexcloud.net',\n",
    "             'port': 6432,             \n",
    "             'db': 'data-analyst-final-project-db'}      \n",
    "\n",
    "connection_string = 'postgresql://{}:{}@{}:{}/{}'.format(db_config['user'],\n",
    "                                                                     db_config['pwd'],\n",
    "                                                                       db_config['host'],\n",
    "                                                                       db_config['port'],\n",
    "                                                                       db_config['db'])\n",
    "\n",
    "engine = create_engine(connection_string, connect_args={'sslmode':'require'})"
   ]
  },
  {
   "cell_type": "markdown",
   "id": "c871853e",
   "metadata": {},
   "source": [
    "## Data Study"
   ]
  },
  {
   "cell_type": "code",
   "execution_count": 2,
   "id": "14593d29",
   "metadata": {},
   "outputs": [],
   "source": [
    "books = pd.io.sql.read_sql(\"SELECT * FROM books\", con = engine)"
   ]
  },
  {
   "cell_type": "code",
   "execution_count": 3,
   "id": "64ce2f9d",
   "metadata": {},
   "outputs": [
    {
     "data": {
      "text/html": [
       "<div>\n",
       "<style scoped>\n",
       "    .dataframe tbody tr th:only-of-type {\n",
       "        vertical-align: middle;\n",
       "    }\n",
       "\n",
       "    .dataframe tbody tr th {\n",
       "        vertical-align: top;\n",
       "    }\n",
       "\n",
       "    .dataframe thead th {\n",
       "        text-align: right;\n",
       "    }\n",
       "</style>\n",
       "<table border=\"1\" class=\"dataframe\">\n",
       "  <thead>\n",
       "    <tr style=\"text-align: right;\">\n",
       "      <th></th>\n",
       "      <th>book_id</th>\n",
       "      <th>author_id</th>\n",
       "      <th>title</th>\n",
       "      <th>num_pages</th>\n",
       "      <th>publication_date</th>\n",
       "      <th>publisher_id</th>\n",
       "    </tr>\n",
       "  </thead>\n",
       "  <tbody>\n",
       "    <tr>\n",
       "      <th>0</th>\n",
       "      <td>1</td>\n",
       "      <td>546</td>\n",
       "      <td>'Salem's Lot</td>\n",
       "      <td>594</td>\n",
       "      <td>2005-11-01</td>\n",
       "      <td>93</td>\n",
       "    </tr>\n",
       "    <tr>\n",
       "      <th>1</th>\n",
       "      <td>2</td>\n",
       "      <td>465</td>\n",
       "      <td>1 000 Places to See Before You Die</td>\n",
       "      <td>992</td>\n",
       "      <td>2003-05-22</td>\n",
       "      <td>336</td>\n",
       "    </tr>\n",
       "    <tr>\n",
       "      <th>2</th>\n",
       "      <td>3</td>\n",
       "      <td>407</td>\n",
       "      <td>13 Little Blue Envelopes (Little Blue Envelope...</td>\n",
       "      <td>322</td>\n",
       "      <td>2010-12-21</td>\n",
       "      <td>135</td>\n",
       "    </tr>\n",
       "    <tr>\n",
       "      <th>3</th>\n",
       "      <td>4</td>\n",
       "      <td>82</td>\n",
       "      <td>1491: New Revelations of the Americas Before C...</td>\n",
       "      <td>541</td>\n",
       "      <td>2006-10-10</td>\n",
       "      <td>309</td>\n",
       "    </tr>\n",
       "    <tr>\n",
       "      <th>4</th>\n",
       "      <td>5</td>\n",
       "      <td>125</td>\n",
       "      <td>1776</td>\n",
       "      <td>386</td>\n",
       "      <td>2006-07-04</td>\n",
       "      <td>268</td>\n",
       "    </tr>\n",
       "  </tbody>\n",
       "</table>\n",
       "</div>"
      ],
      "text/plain": [
       "   book_id  author_id                                              title  \\\n",
       "0        1        546                                       'Salem's Lot   \n",
       "1        2        465                 1 000 Places to See Before You Die   \n",
       "2        3        407  13 Little Blue Envelopes (Little Blue Envelope...   \n",
       "3        4         82  1491: New Revelations of the Americas Before C...   \n",
       "4        5        125                                               1776   \n",
       "\n",
       "   num_pages publication_date  publisher_id  \n",
       "0        594       2005-11-01            93  \n",
       "1        992       2003-05-22           336  \n",
       "2        322       2010-12-21           135  \n",
       "3        541       2006-10-10           309  \n",
       "4        386       2006-07-04           268  "
      ]
     },
     "execution_count": 3,
     "metadata": {},
     "output_type": "execute_result"
    }
   ],
   "source": [
    "books.head()"
   ]
  },
  {
   "cell_type": "code",
   "execution_count": 4,
   "id": "ff6ec67b",
   "metadata": {},
   "outputs": [
    {
     "name": "stdout",
     "output_type": "stream",
     "text": [
      "<class 'pandas.core.frame.DataFrame'>\n",
      "RangeIndex: 1000 entries, 0 to 999\n",
      "Data columns (total 6 columns):\n",
      " #   Column            Non-Null Count  Dtype \n",
      "---  ------            --------------  ----- \n",
      " 0   book_id           1000 non-null   int64 \n",
      " 1   author_id         1000 non-null   int64 \n",
      " 2   title             1000 non-null   object\n",
      " 3   num_pages         1000 non-null   int64 \n",
      " 4   publication_date  1000 non-null   object\n",
      " 5   publisher_id      1000 non-null   int64 \n",
      "dtypes: int64(4), object(2)\n",
      "memory usage: 47.0+ KB\n"
     ]
    }
   ],
   "source": [
    "books.info()"
   ]
  },
  {
   "cell_type": "code",
   "execution_count": 5,
   "id": "7a761fd8",
   "metadata": {},
   "outputs": [
    {
     "name": "stdout",
     "output_type": "stream",
     "text": [
      "<class 'pandas.core.frame.DataFrame'>\n",
      "Int64Index: 1000 entries, 0 to 999\n",
      "Data columns (total 6 columns):\n",
      " #   Column            Non-Null Count  Dtype \n",
      "---  ------            --------------  ----- \n",
      " 0   book_id           1000 non-null   int64 \n",
      " 1   author_id         1000 non-null   int64 \n",
      " 2   title             1000 non-null   object\n",
      " 3   num_pages         1000 non-null   int64 \n",
      " 4   publication_date  1000 non-null   object\n",
      " 5   publisher_id      1000 non-null   int64 \n",
      "dtypes: int64(4), object(2)\n",
      "memory usage: 54.7+ KB\n"
     ]
    }
   ],
   "source": [
    "books = books.dropna()\n",
    "books.info()"
   ]
  },
  {
   "cell_type": "code",
   "execution_count": 6,
   "id": "86c6cda2",
   "metadata": {},
   "outputs": [],
   "source": [
    "authors = pd.io.sql.read_sql(\"SELECT * FROM  authors\", con = engine)"
   ]
  },
  {
   "cell_type": "code",
   "execution_count": 7,
   "id": "2501fc5b",
   "metadata": {},
   "outputs": [
    {
     "data": {
      "text/html": [
       "<div>\n",
       "<style scoped>\n",
       "    .dataframe tbody tr th:only-of-type {\n",
       "        vertical-align: middle;\n",
       "    }\n",
       "\n",
       "    .dataframe tbody tr th {\n",
       "        vertical-align: top;\n",
       "    }\n",
       "\n",
       "    .dataframe thead th {\n",
       "        text-align: right;\n",
       "    }\n",
       "</style>\n",
       "<table border=\"1\" class=\"dataframe\">\n",
       "  <thead>\n",
       "    <tr style=\"text-align: right;\">\n",
       "      <th></th>\n",
       "      <th>author_id</th>\n",
       "      <th>author</th>\n",
       "    </tr>\n",
       "  </thead>\n",
       "  <tbody>\n",
       "    <tr>\n",
       "      <th>0</th>\n",
       "      <td>1</td>\n",
       "      <td>A.S. Byatt</td>\n",
       "    </tr>\n",
       "    <tr>\n",
       "      <th>1</th>\n",
       "      <td>2</td>\n",
       "      <td>Aesop/Laura Harris/Laura Gibbs</td>\n",
       "    </tr>\n",
       "    <tr>\n",
       "      <th>2</th>\n",
       "      <td>3</td>\n",
       "      <td>Agatha Christie</td>\n",
       "    </tr>\n",
       "    <tr>\n",
       "      <th>3</th>\n",
       "      <td>4</td>\n",
       "      <td>Alan Brennert</td>\n",
       "    </tr>\n",
       "    <tr>\n",
       "      <th>4</th>\n",
       "      <td>5</td>\n",
       "      <td>Alan Moore/David   Lloyd</td>\n",
       "    </tr>\n",
       "  </tbody>\n",
       "</table>\n",
       "</div>"
      ],
      "text/plain": [
       "   author_id                          author\n",
       "0          1                      A.S. Byatt\n",
       "1          2  Aesop/Laura Harris/Laura Gibbs\n",
       "2          3                 Agatha Christie\n",
       "3          4                   Alan Brennert\n",
       "4          5        Alan Moore/David   Lloyd"
      ]
     },
     "execution_count": 7,
     "metadata": {},
     "output_type": "execute_result"
    }
   ],
   "source": [
    "authors.head()"
   ]
  },
  {
   "cell_type": "code",
   "execution_count": 8,
   "id": "e756bab7",
   "metadata": {},
   "outputs": [
    {
     "name": "stdout",
     "output_type": "stream",
     "text": [
      "<class 'pandas.core.frame.DataFrame'>\n",
      "RangeIndex: 636 entries, 0 to 635\n",
      "Data columns (total 2 columns):\n",
      " #   Column     Non-Null Count  Dtype \n",
      "---  ------     --------------  ----- \n",
      " 0   author_id  636 non-null    int64 \n",
      " 1   author     636 non-null    object\n",
      "dtypes: int64(1), object(1)\n",
      "memory usage: 10.1+ KB\n"
     ]
    }
   ],
   "source": [
    "authors.info()"
   ]
  },
  {
   "cell_type": "code",
   "execution_count": 9,
   "id": "caca6d07",
   "metadata": {},
   "outputs": [
    {
     "name": "stdout",
     "output_type": "stream",
     "text": [
      "<class 'pandas.core.frame.DataFrame'>\n",
      "Int64Index: 636 entries, 0 to 635\n",
      "Data columns (total 2 columns):\n",
      " #   Column     Non-Null Count  Dtype \n",
      "---  ------     --------------  ----- \n",
      " 0   author_id  636 non-null    int64 \n",
      " 1   author     636 non-null    object\n",
      "dtypes: int64(1), object(1)\n",
      "memory usage: 14.9+ KB\n"
     ]
    }
   ],
   "source": [
    "authors = authors.dropna()\n",
    "authors.info()"
   ]
  },
  {
   "cell_type": "code",
   "execution_count": 10,
   "id": "68dfec91",
   "metadata": {},
   "outputs": [],
   "source": [
    "ratings = pd.io.sql.read_sql(\"SELECT * FROM  ratings\", con = engine)"
   ]
  },
  {
   "cell_type": "code",
   "execution_count": 11,
   "id": "e3e9ebdf",
   "metadata": {},
   "outputs": [
    {
     "data": {
      "text/html": [
       "<div>\n",
       "<style scoped>\n",
       "    .dataframe tbody tr th:only-of-type {\n",
       "        vertical-align: middle;\n",
       "    }\n",
       "\n",
       "    .dataframe tbody tr th {\n",
       "        vertical-align: top;\n",
       "    }\n",
       "\n",
       "    .dataframe thead th {\n",
       "        text-align: right;\n",
       "    }\n",
       "</style>\n",
       "<table border=\"1\" class=\"dataframe\">\n",
       "  <thead>\n",
       "    <tr style=\"text-align: right;\">\n",
       "      <th></th>\n",
       "      <th>rating_id</th>\n",
       "      <th>book_id</th>\n",
       "      <th>username</th>\n",
       "      <th>rating</th>\n",
       "    </tr>\n",
       "  </thead>\n",
       "  <tbody>\n",
       "    <tr>\n",
       "      <th>0</th>\n",
       "      <td>1</td>\n",
       "      <td>1</td>\n",
       "      <td>ryanfranco</td>\n",
       "      <td>4</td>\n",
       "    </tr>\n",
       "    <tr>\n",
       "      <th>1</th>\n",
       "      <td>2</td>\n",
       "      <td>1</td>\n",
       "      <td>grantpatricia</td>\n",
       "      <td>2</td>\n",
       "    </tr>\n",
       "    <tr>\n",
       "      <th>2</th>\n",
       "      <td>3</td>\n",
       "      <td>1</td>\n",
       "      <td>brandtandrea</td>\n",
       "      <td>5</td>\n",
       "    </tr>\n",
       "    <tr>\n",
       "      <th>3</th>\n",
       "      <td>4</td>\n",
       "      <td>2</td>\n",
       "      <td>lorichen</td>\n",
       "      <td>3</td>\n",
       "    </tr>\n",
       "    <tr>\n",
       "      <th>4</th>\n",
       "      <td>5</td>\n",
       "      <td>2</td>\n",
       "      <td>mariokeller</td>\n",
       "      <td>2</td>\n",
       "    </tr>\n",
       "  </tbody>\n",
       "</table>\n",
       "</div>"
      ],
      "text/plain": [
       "   rating_id  book_id       username  rating\n",
       "0          1        1     ryanfranco       4\n",
       "1          2        1  grantpatricia       2\n",
       "2          3        1   brandtandrea       5\n",
       "3          4        2       lorichen       3\n",
       "4          5        2    mariokeller       2"
      ]
     },
     "execution_count": 11,
     "metadata": {},
     "output_type": "execute_result"
    }
   ],
   "source": [
    "ratings.head()"
   ]
  },
  {
   "cell_type": "code",
   "execution_count": 12,
   "id": "f17deb7b",
   "metadata": {},
   "outputs": [
    {
     "name": "stdout",
     "output_type": "stream",
     "text": [
      "<class 'pandas.core.frame.DataFrame'>\n",
      "RangeIndex: 6456 entries, 0 to 6455\n",
      "Data columns (total 4 columns):\n",
      " #   Column     Non-Null Count  Dtype \n",
      "---  ------     --------------  ----- \n",
      " 0   rating_id  6456 non-null   int64 \n",
      " 1   book_id    6456 non-null   int64 \n",
      " 2   username   6456 non-null   object\n",
      " 3   rating     6456 non-null   int64 \n",
      "dtypes: int64(3), object(1)\n",
      "memory usage: 201.9+ KB\n"
     ]
    }
   ],
   "source": [
    "ratings.info()"
   ]
  },
  {
   "cell_type": "code",
   "execution_count": 13,
   "id": "1ee03305",
   "metadata": {},
   "outputs": [
    {
     "name": "stdout",
     "output_type": "stream",
     "text": [
      "<class 'pandas.core.frame.DataFrame'>\n",
      "Int64Index: 6456 entries, 0 to 6455\n",
      "Data columns (total 4 columns):\n",
      " #   Column     Non-Null Count  Dtype \n",
      "---  ------     --------------  ----- \n",
      " 0   rating_id  6456 non-null   int64 \n",
      " 1   book_id    6456 non-null   int64 \n",
      " 2   username   6456 non-null   object\n",
      " 3   rating     6456 non-null   int64 \n",
      "dtypes: int64(3), object(1)\n",
      "memory usage: 252.2+ KB\n"
     ]
    }
   ],
   "source": [
    "ratings = ratings.dropna()\n",
    "ratings.info()"
   ]
  },
  {
   "cell_type": "code",
   "execution_count": 14,
   "id": "bb12c115",
   "metadata": {},
   "outputs": [],
   "source": [
    "reviews = pd.io.sql.read_sql(\"SELECT * FROM reviews\", con = engine)"
   ]
  },
  {
   "cell_type": "code",
   "execution_count": 15,
   "id": "eacb6e86",
   "metadata": {},
   "outputs": [
    {
     "data": {
      "text/html": [
       "<div>\n",
       "<style scoped>\n",
       "    .dataframe tbody tr th:only-of-type {\n",
       "        vertical-align: middle;\n",
       "    }\n",
       "\n",
       "    .dataframe tbody tr th {\n",
       "        vertical-align: top;\n",
       "    }\n",
       "\n",
       "    .dataframe thead th {\n",
       "        text-align: right;\n",
       "    }\n",
       "</style>\n",
       "<table border=\"1\" class=\"dataframe\">\n",
       "  <thead>\n",
       "    <tr style=\"text-align: right;\">\n",
       "      <th></th>\n",
       "      <th>review_id</th>\n",
       "      <th>book_id</th>\n",
       "      <th>username</th>\n",
       "      <th>text</th>\n",
       "    </tr>\n",
       "  </thead>\n",
       "  <tbody>\n",
       "    <tr>\n",
       "      <th>0</th>\n",
       "      <td>1</td>\n",
       "      <td>1</td>\n",
       "      <td>brandtandrea</td>\n",
       "      <td>Mention society tell send professor analysis. ...</td>\n",
       "    </tr>\n",
       "    <tr>\n",
       "      <th>1</th>\n",
       "      <td>2</td>\n",
       "      <td>1</td>\n",
       "      <td>ryanfranco</td>\n",
       "      <td>Foot glass pretty audience hit themselves. Amo...</td>\n",
       "    </tr>\n",
       "    <tr>\n",
       "      <th>2</th>\n",
       "      <td>3</td>\n",
       "      <td>2</td>\n",
       "      <td>lorichen</td>\n",
       "      <td>Listen treat keep worry. Miss husband tax but ...</td>\n",
       "    </tr>\n",
       "    <tr>\n",
       "      <th>3</th>\n",
       "      <td>4</td>\n",
       "      <td>3</td>\n",
       "      <td>johnsonamanda</td>\n",
       "      <td>Finally month interesting blue could nature cu...</td>\n",
       "    </tr>\n",
       "    <tr>\n",
       "      <th>4</th>\n",
       "      <td>5</td>\n",
       "      <td>3</td>\n",
       "      <td>scotttamara</td>\n",
       "      <td>Nation purpose heavy give wait song will. List...</td>\n",
       "    </tr>\n",
       "  </tbody>\n",
       "</table>\n",
       "</div>"
      ],
      "text/plain": [
       "   review_id  book_id       username  \\\n",
       "0          1        1   brandtandrea   \n",
       "1          2        1     ryanfranco   \n",
       "2          3        2       lorichen   \n",
       "3          4        3  johnsonamanda   \n",
       "4          5        3    scotttamara   \n",
       "\n",
       "                                                text  \n",
       "0  Mention society tell send professor analysis. ...  \n",
       "1  Foot glass pretty audience hit themselves. Amo...  \n",
       "2  Listen treat keep worry. Miss husband tax but ...  \n",
       "3  Finally month interesting blue could nature cu...  \n",
       "4  Nation purpose heavy give wait song will. List...  "
      ]
     },
     "execution_count": 15,
     "metadata": {},
     "output_type": "execute_result"
    }
   ],
   "source": [
    "reviews.head()"
   ]
  },
  {
   "cell_type": "code",
   "execution_count": 16,
   "id": "67bedc17",
   "metadata": {},
   "outputs": [
    {
     "name": "stdout",
     "output_type": "stream",
     "text": [
      "<class 'pandas.core.frame.DataFrame'>\n",
      "RangeIndex: 2793 entries, 0 to 2792\n",
      "Data columns (total 4 columns):\n",
      " #   Column     Non-Null Count  Dtype \n",
      "---  ------     --------------  ----- \n",
      " 0   review_id  2793 non-null   int64 \n",
      " 1   book_id    2793 non-null   int64 \n",
      " 2   username   2793 non-null   object\n",
      " 3   text       2793 non-null   object\n",
      "dtypes: int64(2), object(2)\n",
      "memory usage: 87.4+ KB\n"
     ]
    }
   ],
   "source": [
    "reviews.info()"
   ]
  },
  {
   "cell_type": "code",
   "execution_count": 17,
   "id": "7c07ada9",
   "metadata": {},
   "outputs": [
    {
     "name": "stdout",
     "output_type": "stream",
     "text": [
      "<class 'pandas.core.frame.DataFrame'>\n",
      "Int64Index: 2793 entries, 0 to 2792\n",
      "Data columns (total 4 columns):\n",
      " #   Column     Non-Null Count  Dtype \n",
      "---  ------     --------------  ----- \n",
      " 0   review_id  2793 non-null   int64 \n",
      " 1   book_id    2793 non-null   int64 \n",
      " 2   username   2793 non-null   object\n",
      " 3   text       2793 non-null   object\n",
      "dtypes: int64(2), object(2)\n",
      "memory usage: 109.1+ KB\n"
     ]
    }
   ],
   "source": [
    "reviews = reviews.dropna()\n",
    "reviews.info()"
   ]
  },
  {
   "cell_type": "code",
   "execution_count": 18,
   "id": "a525e300",
   "metadata": {},
   "outputs": [],
   "source": [
    "publishers = pd.io.sql.read_sql(\"SELECT * FROM publishers\", con = engine)"
   ]
  },
  {
   "cell_type": "code",
   "execution_count": 19,
   "id": "480df049",
   "metadata": {},
   "outputs": [
    {
     "data": {
      "text/html": [
       "<div>\n",
       "<style scoped>\n",
       "    .dataframe tbody tr th:only-of-type {\n",
       "        vertical-align: middle;\n",
       "    }\n",
       "\n",
       "    .dataframe tbody tr th {\n",
       "        vertical-align: top;\n",
       "    }\n",
       "\n",
       "    .dataframe thead th {\n",
       "        text-align: right;\n",
       "    }\n",
       "</style>\n",
       "<table border=\"1\" class=\"dataframe\">\n",
       "  <thead>\n",
       "    <tr style=\"text-align: right;\">\n",
       "      <th></th>\n",
       "      <th>publisher_id</th>\n",
       "      <th>publisher</th>\n",
       "    </tr>\n",
       "  </thead>\n",
       "  <tbody>\n",
       "    <tr>\n",
       "      <th>0</th>\n",
       "      <td>1</td>\n",
       "      <td>Ace</td>\n",
       "    </tr>\n",
       "    <tr>\n",
       "      <th>1</th>\n",
       "      <td>2</td>\n",
       "      <td>Ace Book</td>\n",
       "    </tr>\n",
       "    <tr>\n",
       "      <th>2</th>\n",
       "      <td>3</td>\n",
       "      <td>Ace Books</td>\n",
       "    </tr>\n",
       "    <tr>\n",
       "      <th>3</th>\n",
       "      <td>4</td>\n",
       "      <td>Ace Hardcover</td>\n",
       "    </tr>\n",
       "    <tr>\n",
       "      <th>4</th>\n",
       "      <td>5</td>\n",
       "      <td>Addison Wesley Publishing Company</td>\n",
       "    </tr>\n",
       "  </tbody>\n",
       "</table>\n",
       "</div>"
      ],
      "text/plain": [
       "   publisher_id                          publisher\n",
       "0             1                                Ace\n",
       "1             2                           Ace Book\n",
       "2             3                          Ace Books\n",
       "3             4                      Ace Hardcover\n",
       "4             5  Addison Wesley Publishing Company"
      ]
     },
     "execution_count": 19,
     "metadata": {},
     "output_type": "execute_result"
    }
   ],
   "source": [
    "publishers.head()"
   ]
  },
  {
   "cell_type": "code",
   "execution_count": 20,
   "id": "ae540654",
   "metadata": {
    "scrolled": true
   },
   "outputs": [
    {
     "name": "stdout",
     "output_type": "stream",
     "text": [
      "<class 'pandas.core.frame.DataFrame'>\n",
      "RangeIndex: 340 entries, 0 to 339\n",
      "Data columns (total 2 columns):\n",
      " #   Column        Non-Null Count  Dtype \n",
      "---  ------        --------------  ----- \n",
      " 0   publisher_id  340 non-null    int64 \n",
      " 1   publisher     340 non-null    object\n",
      "dtypes: int64(1), object(1)\n",
      "memory usage: 5.4+ KB\n"
     ]
    }
   ],
   "source": [
    "publishers.info()"
   ]
  },
  {
   "cell_type": "code",
   "execution_count": 21,
   "id": "20d3c63c",
   "metadata": {},
   "outputs": [
    {
     "name": "stdout",
     "output_type": "stream",
     "text": [
      "<class 'pandas.core.frame.DataFrame'>\n",
      "Int64Index: 340 entries, 0 to 339\n",
      "Data columns (total 2 columns):\n",
      " #   Column        Non-Null Count  Dtype \n",
      "---  ------        --------------  ----- \n",
      " 0   publisher_id  340 non-null    int64 \n",
      " 1   publisher     340 non-null    object\n",
      "dtypes: int64(1), object(1)\n",
      "memory usage: 8.0+ KB\n"
     ]
    }
   ],
   "source": [
    "publishers = publishers.dropna()\n",
    "publishers.info()"
   ]
  },
  {
   "cell_type": "markdown",
   "id": "2f53431a",
   "metadata": {},
   "source": [
    "## Finding the number of books released after January 1, 2000."
   ]
  },
  {
   "cell_type": "code",
   "execution_count": 38,
   "id": "5a6973cd",
   "metadata": {},
   "outputs": [
    {
     "data": {
      "text/html": [
       "<div>\n",
       "<style scoped>\n",
       "    .dataframe tbody tr th:only-of-type {\n",
       "        vertical-align: middle;\n",
       "    }\n",
       "\n",
       "    .dataframe tbody tr th {\n",
       "        vertical-align: top;\n",
       "    }\n",
       "\n",
       "    .dataframe thead th {\n",
       "        text-align: right;\n",
       "    }\n",
       "</style>\n",
       "<table border=\"1\" class=\"dataframe\">\n",
       "  <thead>\n",
       "    <tr style=\"text-align: right;\">\n",
       "      <th></th>\n",
       "      <th>books_count</th>\n",
       "    </tr>\n",
       "  </thead>\n",
       "  <tbody>\n",
       "    <tr>\n",
       "      <th>0</th>\n",
       "      <td>821</td>\n",
       "    </tr>\n",
       "  </tbody>\n",
       "</table>\n",
       "</div>"
      ],
      "text/plain": [
       "   books_count\n",
       "0          821"
      ]
     },
     "execution_count": 38,
     "metadata": {},
     "output_type": "execute_result"
    }
   ],
   "source": [
    "books_after_jan1_2000 = (pd.io.sql.read_sql(\"SELECT COUNT(book_id) AS books_count FROM books WHERE publication_date >= '2000-01-01'\", con = engine))\n",
    "books_after_jan1_2000"
   ]
  },
  {
   "cell_type": "markdown",
   "id": "7eae743f",
   "metadata": {},
   "source": [
    "There are 821 books published after January 1, 2020."
   ]
  },
  {
   "cell_type": "markdown",
   "id": "ba9d67c7",
   "metadata": {},
   "source": [
    "## Finding the number of user reviews and the average rating for each book."
   ]
  },
  {
   "cell_type": "code",
   "execution_count": 23,
   "id": "05c79860",
   "metadata": {},
   "outputs": [
    {
     "data": {
      "text/html": [
       "<div>\n",
       "<style scoped>\n",
       "    .dataframe tbody tr th:only-of-type {\n",
       "        vertical-align: middle;\n",
       "    }\n",
       "\n",
       "    .dataframe tbody tr th {\n",
       "        vertical-align: top;\n",
       "    }\n",
       "\n",
       "    .dataframe thead th {\n",
       "        text-align: right;\n",
       "    }\n",
       "</style>\n",
       "<table border=\"1\" class=\"dataframe\">\n",
       "  <thead>\n",
       "    <tr style=\"text-align: right;\">\n",
       "      <th></th>\n",
       "      <th>title</th>\n",
       "      <th>book_id</th>\n",
       "      <th>reviews_count</th>\n",
       "    </tr>\n",
       "  </thead>\n",
       "  <tbody>\n",
       "    <tr>\n",
       "      <th>0</th>\n",
       "      <td>Twilight (Twilight  #1)</td>\n",
       "      <td>948</td>\n",
       "      <td>7</td>\n",
       "    </tr>\n",
       "    <tr>\n",
       "      <th>1</th>\n",
       "      <td>The Book Thief</td>\n",
       "      <td>656</td>\n",
       "      <td>6</td>\n",
       "    </tr>\n",
       "    <tr>\n",
       "      <th>2</th>\n",
       "      <td>Outlander (Outlander  #1)</td>\n",
       "      <td>497</td>\n",
       "      <td>6</td>\n",
       "    </tr>\n",
       "    <tr>\n",
       "      <th>3</th>\n",
       "      <td>Water for Elephants</td>\n",
       "      <td>963</td>\n",
       "      <td>6</td>\n",
       "    </tr>\n",
       "    <tr>\n",
       "      <th>4</th>\n",
       "      <td>The Da Vinci Code (Robert Langdon  #2)</td>\n",
       "      <td>696</td>\n",
       "      <td>6</td>\n",
       "    </tr>\n",
       "    <tr>\n",
       "      <th>5</th>\n",
       "      <td>The Curious Incident of the Dog in the Night-Time</td>\n",
       "      <td>695</td>\n",
       "      <td>6</td>\n",
       "    </tr>\n",
       "    <tr>\n",
       "      <th>6</th>\n",
       "      <td>The Road</td>\n",
       "      <td>854</td>\n",
       "      <td>6</td>\n",
       "    </tr>\n",
       "    <tr>\n",
       "      <th>7</th>\n",
       "      <td>The Alchemist</td>\n",
       "      <td>627</td>\n",
       "      <td>6</td>\n",
       "    </tr>\n",
       "    <tr>\n",
       "      <th>8</th>\n",
       "      <td>Eat  Pray  Love</td>\n",
       "      <td>207</td>\n",
       "      <td>6</td>\n",
       "    </tr>\n",
       "    <tr>\n",
       "      <th>9</th>\n",
       "      <td>The Glass Castle</td>\n",
       "      <td>734</td>\n",
       "      <td>6</td>\n",
       "    </tr>\n",
       "  </tbody>\n",
       "</table>\n",
       "</div>"
      ],
      "text/plain": [
       "                                               title  book_id  reviews_count\n",
       "0                            Twilight (Twilight  #1)      948              7\n",
       "1                                     The Book Thief      656              6\n",
       "2                          Outlander (Outlander  #1)      497              6\n",
       "3                                Water for Elephants      963              6\n",
       "4             The Da Vinci Code (Robert Langdon  #2)      696              6\n",
       "5  The Curious Incident of the Dog in the Night-Time      695              6\n",
       "6                                           The Road      854              6\n",
       "7                                      The Alchemist      627              6\n",
       "8                                    Eat  Pray  Love      207              6\n",
       "9                                   The Glass Castle      734              6"
      ]
     },
     "execution_count": 23,
     "metadata": {},
     "output_type": "execute_result"
    }
   ],
   "source": [
    "books_reviews = pd.io.sql.read_sql(\"SELECT title, book_id, COUNT(review_id) AS reviews_count FROM books JOIN reviews USING (book_id) GROUP BY (book_id) ORDER BY (reviews_count) DESC\", con = engine)\n",
    "books_reviews.head(10)"
   ]
  },
  {
   "cell_type": "markdown",
   "id": "684b3b45",
   "metadata": {},
   "source": [
    "#### SubConclusions:\n",
    "- The biggest number of user reviews for a book is 7, and it belongs to Twilligt (#1);\n",
    "- The lowest number of user reviews for a book is 1."
   ]
  },
  {
   "cell_type": "code",
   "execution_count": 24,
   "id": "26629ce1",
   "metadata": {},
   "outputs": [
    {
     "data": {
      "text/html": [
       "<div>\n",
       "<style scoped>\n",
       "    .dataframe tbody tr th:only-of-type {\n",
       "        vertical-align: middle;\n",
       "    }\n",
       "\n",
       "    .dataframe tbody tr th {\n",
       "        vertical-align: top;\n",
       "    }\n",
       "\n",
       "    .dataframe thead th {\n",
       "        text-align: right;\n",
       "    }\n",
       "</style>\n",
       "<table border=\"1\" class=\"dataframe\">\n",
       "  <thead>\n",
       "    <tr style=\"text-align: right;\">\n",
       "      <th></th>\n",
       "      <th>title</th>\n",
       "      <th>book_id</th>\n",
       "      <th>avg_rating</th>\n",
       "    </tr>\n",
       "  </thead>\n",
       "  <tbody>\n",
       "    <tr>\n",
       "      <th>0</th>\n",
       "      <td>Pop Goes the Weasel (Alex Cross  #5)</td>\n",
       "      <td>518</td>\n",
       "      <td>5.0</td>\n",
       "    </tr>\n",
       "    <tr>\n",
       "      <th>1</th>\n",
       "      <td>The Ghost Map: The Story of London's Most Terr...</td>\n",
       "      <td>732</td>\n",
       "      <td>5.0</td>\n",
       "    </tr>\n",
       "    <tr>\n",
       "      <th>2</th>\n",
       "      <td>In the Hand of the Goddess (Song of the Liones...</td>\n",
       "      <td>347</td>\n",
       "      <td>5.0</td>\n",
       "    </tr>\n",
       "    <tr>\n",
       "      <th>3</th>\n",
       "      <td>Tai-Pan (Asian Saga  #2)</td>\n",
       "      <td>610</td>\n",
       "      <td>5.0</td>\n",
       "    </tr>\n",
       "    <tr>\n",
       "      <th>4</th>\n",
       "      <td>How to Be a Domestic Goddess: Baking and the A...</td>\n",
       "      <td>330</td>\n",
       "      <td>5.0</td>\n",
       "    </tr>\n",
       "    <tr>\n",
       "      <th>5</th>\n",
       "      <td>Evil Under the Sun (Hercule Poirot  #24)</td>\n",
       "      <td>229</td>\n",
       "      <td>5.0</td>\n",
       "    </tr>\n",
       "    <tr>\n",
       "      <th>6</th>\n",
       "      <td>Geek Love</td>\n",
       "      <td>275</td>\n",
       "      <td>5.0</td>\n",
       "    </tr>\n",
       "    <tr>\n",
       "      <th>7</th>\n",
       "      <td>School's Out—Forever (Maximum Ride  #2)</td>\n",
       "      <td>553</td>\n",
       "      <td>5.0</td>\n",
       "    </tr>\n",
       "    <tr>\n",
       "      <th>8</th>\n",
       "      <td>Emily of New Moon (Emily  #1)</td>\n",
       "      <td>213</td>\n",
       "      <td>5.0</td>\n",
       "    </tr>\n",
       "    <tr>\n",
       "      <th>9</th>\n",
       "      <td>Women</td>\n",
       "      <td>993</td>\n",
       "      <td>5.0</td>\n",
       "    </tr>\n",
       "  </tbody>\n",
       "</table>\n",
       "</div>"
      ],
      "text/plain": [
       "                                               title  book_id  avg_rating\n",
       "0               Pop Goes the Weasel (Alex Cross  #5)      518         5.0\n",
       "1  The Ghost Map: The Story of London's Most Terr...      732         5.0\n",
       "2  In the Hand of the Goddess (Song of the Liones...      347         5.0\n",
       "3                           Tai-Pan (Asian Saga  #2)      610         5.0\n",
       "4  How to Be a Domestic Goddess: Baking and the A...      330         5.0\n",
       "5           Evil Under the Sun (Hercule Poirot  #24)      229         5.0\n",
       "6                                          Geek Love      275         5.0\n",
       "7            School's Out—Forever (Maximum Ride  #2)      553         5.0\n",
       "8                      Emily of New Moon (Emily  #1)      213         5.0\n",
       "9                                              Women      993         5.0"
      ]
     },
     "execution_count": 24,
     "metadata": {},
     "output_type": "execute_result"
    }
   ],
   "source": [
    "books_ratings = pd.io.sql.read_sql(\"SELECT title, book_id, AVG(rating) AS avg_rating FROM books JOIN ratings USING (book_id) GROUP BY (book_id) ORDER BY (avg_rating) DESC\", con = engine)\n",
    "books_ratings.head(10) "
   ]
  },
  {
   "cell_type": "code",
   "execution_count": 25,
   "id": "2f6104fc",
   "metadata": {},
   "outputs": [
    {
     "data": {
      "text/html": [
       "<div>\n",
       "<style scoped>\n",
       "    .dataframe tbody tr th:only-of-type {\n",
       "        vertical-align: middle;\n",
       "    }\n",
       "\n",
       "    .dataframe tbody tr th {\n",
       "        vertical-align: top;\n",
       "    }\n",
       "\n",
       "    .dataframe thead th {\n",
       "        text-align: right;\n",
       "    }\n",
       "</style>\n",
       "<table border=\"1\" class=\"dataframe\">\n",
       "  <thead>\n",
       "    <tr style=\"text-align: right;\">\n",
       "      <th></th>\n",
       "      <th>title</th>\n",
       "      <th>book_id</th>\n",
       "      <th>avg_rating</th>\n",
       "    </tr>\n",
       "  </thead>\n",
       "  <tbody>\n",
       "    <tr>\n",
       "      <th>990</th>\n",
       "      <td>Tsubasa: RESERVoir CHRoNiCLE  Vol. 1</td>\n",
       "      <td>943</td>\n",
       "      <td>2.500000</td>\n",
       "    </tr>\n",
       "    <tr>\n",
       "      <th>991</th>\n",
       "      <td>Prep : A Novel</td>\n",
       "      <td>525</td>\n",
       "      <td>2.500000</td>\n",
       "    </tr>\n",
       "    <tr>\n",
       "      <th>992</th>\n",
       "      <td>Neither Here nor There: Travels in Europe</td>\n",
       "      <td>470</td>\n",
       "      <td>2.500000</td>\n",
       "    </tr>\n",
       "    <tr>\n",
       "      <th>993</th>\n",
       "      <td>The Mermaid Chair</td>\n",
       "      <td>794</td>\n",
       "      <td>2.333333</td>\n",
       "    </tr>\n",
       "    <tr>\n",
       "      <th>994</th>\n",
       "      <td>The Kitchen God's Wife</td>\n",
       "      <td>772</td>\n",
       "      <td>2.333333</td>\n",
       "    </tr>\n",
       "    <tr>\n",
       "      <th>995</th>\n",
       "      <td>The World Is Flat: A Brief History of the Twen...</td>\n",
       "      <td>915</td>\n",
       "      <td>2.250000</td>\n",
       "    </tr>\n",
       "    <tr>\n",
       "      <th>996</th>\n",
       "      <td>Junky</td>\n",
       "      <td>371</td>\n",
       "      <td>2.000000</td>\n",
       "    </tr>\n",
       "    <tr>\n",
       "      <th>997</th>\n",
       "      <td>His Excellency: George Washington</td>\n",
       "      <td>316</td>\n",
       "      <td>2.000000</td>\n",
       "    </tr>\n",
       "    <tr>\n",
       "      <th>998</th>\n",
       "      <td>Drowning Ruth</td>\n",
       "      <td>202</td>\n",
       "      <td>2.000000</td>\n",
       "    </tr>\n",
       "    <tr>\n",
       "      <th>999</th>\n",
       "      <td>Harvesting the Heart</td>\n",
       "      <td>303</td>\n",
       "      <td>1.500000</td>\n",
       "    </tr>\n",
       "  </tbody>\n",
       "</table>\n",
       "</div>"
      ],
      "text/plain": [
       "                                                 title  book_id  avg_rating\n",
       "990               Tsubasa: RESERVoir CHRoNiCLE  Vol. 1      943    2.500000\n",
       "991                                     Prep : A Novel      525    2.500000\n",
       "992          Neither Here nor There: Travels in Europe      470    2.500000\n",
       "993                                  The Mermaid Chair      794    2.333333\n",
       "994                             The Kitchen God's Wife      772    2.333333\n",
       "995  The World Is Flat: A Brief History of the Twen...      915    2.250000\n",
       "996                                              Junky      371    2.000000\n",
       "997                  His Excellency: George Washington      316    2.000000\n",
       "998                                      Drowning Ruth      202    2.000000\n",
       "999                               Harvesting the Heart      303    1.500000"
      ]
     },
     "execution_count": 25,
     "metadata": {},
     "output_type": "execute_result"
    }
   ],
   "source": [
    "books_ratings.tail(10) "
   ]
  },
  {
   "cell_type": "markdown",
   "id": "897c9a95",
   "metadata": {},
   "source": [
    "#### SubConclusions\n",
    "- The highest average rating is 5.0;\n",
    "- The lowest average rating (1.5) belongs to \"Harvesting the Heart\"."
   ]
  },
  {
   "cell_type": "markdown",
   "id": "70b2708b",
   "metadata": {},
   "source": [
    "Let's merge findings into one dataframe"
   ]
  },
  {
   "cell_type": "code",
   "execution_count": 26,
   "id": "1c1a24e2",
   "metadata": {},
   "outputs": [
    {
     "data": {
      "text/html": [
       "<div>\n",
       "<style scoped>\n",
       "    .dataframe tbody tr th:only-of-type {\n",
       "        vertical-align: middle;\n",
       "    }\n",
       "\n",
       "    .dataframe tbody tr th {\n",
       "        vertical-align: top;\n",
       "    }\n",
       "\n",
       "    .dataframe thead th {\n",
       "        text-align: right;\n",
       "    }\n",
       "</style>\n",
       "<table border=\"1\" class=\"dataframe\">\n",
       "  <thead>\n",
       "    <tr style=\"text-align: right;\">\n",
       "      <th></th>\n",
       "      <th>title</th>\n",
       "      <th>avg_rating</th>\n",
       "      <th>reviews_count</th>\n",
       "    </tr>\n",
       "  </thead>\n",
       "  <tbody>\n",
       "    <tr>\n",
       "      <th>0</th>\n",
       "      <td>Twilight (Twilight  #1)</td>\n",
       "      <td>3.662500</td>\n",
       "      <td>7</td>\n",
       "    </tr>\n",
       "    <tr>\n",
       "      <th>1</th>\n",
       "      <td>The Road</td>\n",
       "      <td>3.772727</td>\n",
       "      <td>6</td>\n",
       "    </tr>\n",
       "    <tr>\n",
       "      <th>2</th>\n",
       "      <td>The Book Thief</td>\n",
       "      <td>4.264151</td>\n",
       "      <td>6</td>\n",
       "    </tr>\n",
       "    <tr>\n",
       "      <th>3</th>\n",
       "      <td>Water for Elephants</td>\n",
       "      <td>3.977273</td>\n",
       "      <td>6</td>\n",
       "    </tr>\n",
       "    <tr>\n",
       "      <th>4</th>\n",
       "      <td>The Glass Castle</td>\n",
       "      <td>4.206897</td>\n",
       "      <td>6</td>\n",
       "    </tr>\n",
       "  </tbody>\n",
       "</table>\n",
       "</div>"
      ],
      "text/plain": [
       "                     title  avg_rating  reviews_count\n",
       "0  Twilight (Twilight  #1)    3.662500              7\n",
       "1                 The Road    3.772727              6\n",
       "2           The Book Thief    4.264151              6\n",
       "3      Water for Elephants    3.977273              6\n",
       "4         The Glass Castle    4.206897              6"
      ]
     },
     "execution_count": 26,
     "metadata": {},
     "output_type": "execute_result"
    }
   ],
   "source": [
    "books_ratings_reviews = pd.io.sql.read_sql(\"WITH books_ratings AS(SELECT title, book_id, AVG(rating) AS avg_rating FROM books JOIN ratings USING (book_id) GROUP BY (book_id)), books_reviews AS (SELECT title, book_id, COUNT(review_id) AS reviews_count FROM books JOIN reviews USING (book_id) GROUP BY (book_id)) SELECT title, avg_rating, reviews_count FROM books_ratings JOIN books_reviews USING (title) ORDER BY (reviews_count) DESC\", con = engine)\n",
    "books_ratings_reviews.head()"
   ]
  },
  {
   "cell_type": "markdown",
   "id": "039cab03",
   "metadata": {},
   "source": [
    "## Identifying the publisher that has released the greatest number of books with more than 50 pages."
   ]
  },
  {
   "cell_type": "code",
   "execution_count": 27,
   "id": "39728eb7",
   "metadata": {},
   "outputs": [
    {
     "data": {
      "text/html": [
       "<div>\n",
       "<style scoped>\n",
       "    .dataframe tbody tr th:only-of-type {\n",
       "        vertical-align: middle;\n",
       "    }\n",
       "\n",
       "    .dataframe tbody tr th {\n",
       "        vertical-align: top;\n",
       "    }\n",
       "\n",
       "    .dataframe thead th {\n",
       "        text-align: right;\n",
       "    }\n",
       "</style>\n",
       "<table border=\"1\" class=\"dataframe\">\n",
       "  <thead>\n",
       "    <tr style=\"text-align: right;\">\n",
       "      <th></th>\n",
       "      <th>publisher_id</th>\n",
       "      <th>publisher</th>\n",
       "    </tr>\n",
       "  </thead>\n",
       "  <tbody>\n",
       "    <tr>\n",
       "      <th>0</th>\n",
       "      <td>1</td>\n",
       "      <td>Ace</td>\n",
       "    </tr>\n",
       "    <tr>\n",
       "      <th>1</th>\n",
       "      <td>2</td>\n",
       "      <td>Ace Book</td>\n",
       "    </tr>\n",
       "    <tr>\n",
       "      <th>2</th>\n",
       "      <td>3</td>\n",
       "      <td>Ace Books</td>\n",
       "    </tr>\n",
       "    <tr>\n",
       "      <th>3</th>\n",
       "      <td>4</td>\n",
       "      <td>Ace Hardcover</td>\n",
       "    </tr>\n",
       "    <tr>\n",
       "      <th>4</th>\n",
       "      <td>5</td>\n",
       "      <td>Addison Wesley Publishing Company</td>\n",
       "    </tr>\n",
       "  </tbody>\n",
       "</table>\n",
       "</div>"
      ],
      "text/plain": [
       "   publisher_id                          publisher\n",
       "0             1                                Ace\n",
       "1             2                           Ace Book\n",
       "2             3                          Ace Books\n",
       "3             4                      Ace Hardcover\n",
       "4             5  Addison Wesley Publishing Company"
      ]
     },
     "execution_count": 27,
     "metadata": {},
     "output_type": "execute_result"
    }
   ],
   "source": [
    "publishers.head()"
   ]
  },
  {
   "cell_type": "code",
   "execution_count": 28,
   "id": "1415e227",
   "metadata": {},
   "outputs": [
    {
     "data": {
      "text/html": [
       "<div>\n",
       "<style scoped>\n",
       "    .dataframe tbody tr th:only-of-type {\n",
       "        vertical-align: middle;\n",
       "    }\n",
       "\n",
       "    .dataframe tbody tr th {\n",
       "        vertical-align: top;\n",
       "    }\n",
       "\n",
       "    .dataframe thead th {\n",
       "        text-align: right;\n",
       "    }\n",
       "</style>\n",
       "<table border=\"1\" class=\"dataframe\">\n",
       "  <thead>\n",
       "    <tr style=\"text-align: right;\">\n",
       "      <th></th>\n",
       "      <th>publisher_id</th>\n",
       "      <th>publisher</th>\n",
       "      <th>books_count</th>\n",
       "    </tr>\n",
       "  </thead>\n",
       "  <tbody>\n",
       "    <tr>\n",
       "      <th>0</th>\n",
       "      <td>212</td>\n",
       "      <td>Penguin Books</td>\n",
       "      <td>42</td>\n",
       "    </tr>\n",
       "  </tbody>\n",
       "</table>\n",
       "</div>"
      ],
      "text/plain": [
       "   publisher_id      publisher  books_count\n",
       "0           212  Penguin Books           42"
      ]
     },
     "execution_count": 28,
     "metadata": {},
     "output_type": "execute_result"
    }
   ],
   "source": [
    "book_publisher = (pd.io.sql.read_sql(\"SELECT publisher_id, publisher, COUNT(book_id) AS books_count FROM publishers JOIN books USING (publisher_id) WHERE num_pages > 50 GROUP BY (publisher_id) ORDER BY (books_count) DESC LIMIT 1\", con = engine))\n",
    "book_publisher.head()"
   ]
  },
  {
   "cell_type": "markdown",
   "id": "437e3645",
   "metadata": {},
   "source": [
    "### Conclusion:\n",
    " - Penguin Books has released the greatest number of books (42) of more than 50 pages."
   ]
  },
  {
   "cell_type": "markdown",
   "id": "4801665a",
   "metadata": {},
   "source": [
    "## Identifying the author with the highest average book rating (look for books with at least 50 ratings)."
   ]
  },
  {
   "cell_type": "code",
   "execution_count": 29,
   "id": "11e50141",
   "metadata": {},
   "outputs": [
    {
     "data": {
      "text/html": [
       "<div>\n",
       "<style scoped>\n",
       "    .dataframe tbody tr th:only-of-type {\n",
       "        vertical-align: middle;\n",
       "    }\n",
       "\n",
       "    .dataframe tbody tr th {\n",
       "        vertical-align: top;\n",
       "    }\n",
       "\n",
       "    .dataframe thead th {\n",
       "        text-align: right;\n",
       "    }\n",
       "</style>\n",
       "<table border=\"1\" class=\"dataframe\">\n",
       "  <thead>\n",
       "    <tr style=\"text-align: right;\">\n",
       "      <th></th>\n",
       "      <th>title</th>\n",
       "      <th>book_id</th>\n",
       "      <th>avg_rating</th>\n",
       "    </tr>\n",
       "  </thead>\n",
       "  <tbody>\n",
       "    <tr>\n",
       "      <th>0</th>\n",
       "      <td>Pop Goes the Weasel (Alex Cross  #5)</td>\n",
       "      <td>518</td>\n",
       "      <td>5.0</td>\n",
       "    </tr>\n",
       "    <tr>\n",
       "      <th>1</th>\n",
       "      <td>The Ghost Map: The Story of London's Most Terr...</td>\n",
       "      <td>732</td>\n",
       "      <td>5.0</td>\n",
       "    </tr>\n",
       "    <tr>\n",
       "      <th>2</th>\n",
       "      <td>In the Hand of the Goddess (Song of the Liones...</td>\n",
       "      <td>347</td>\n",
       "      <td>5.0</td>\n",
       "    </tr>\n",
       "    <tr>\n",
       "      <th>3</th>\n",
       "      <td>Tai-Pan (Asian Saga  #2)</td>\n",
       "      <td>610</td>\n",
       "      <td>5.0</td>\n",
       "    </tr>\n",
       "    <tr>\n",
       "      <th>4</th>\n",
       "      <td>How to Be a Domestic Goddess: Baking and the A...</td>\n",
       "      <td>330</td>\n",
       "      <td>5.0</td>\n",
       "    </tr>\n",
       "  </tbody>\n",
       "</table>\n",
       "</div>"
      ],
      "text/plain": [
       "                                               title  book_id  avg_rating\n",
       "0               Pop Goes the Weasel (Alex Cross  #5)      518         5.0\n",
       "1  The Ghost Map: The Story of London's Most Terr...      732         5.0\n",
       "2  In the Hand of the Goddess (Song of the Liones...      347         5.0\n",
       "3                           Tai-Pan (Asian Saga  #2)      610         5.0\n",
       "4  How to Be a Domestic Goddess: Baking and the A...      330         5.0"
      ]
     },
     "execution_count": 29,
     "metadata": {},
     "output_type": "execute_result"
    }
   ],
   "source": [
    "books_ratings.head()"
   ]
  },
  {
   "cell_type": "code",
   "execution_count": 30,
   "id": "79642e61",
   "metadata": {},
   "outputs": [
    {
     "data": {
      "text/html": [
       "<div>\n",
       "<style scoped>\n",
       "    .dataframe tbody tr th:only-of-type {\n",
       "        vertical-align: middle;\n",
       "    }\n",
       "\n",
       "    .dataframe tbody tr th {\n",
       "        vertical-align: top;\n",
       "    }\n",
       "\n",
       "    .dataframe thead th {\n",
       "        text-align: right;\n",
       "    }\n",
       "</style>\n",
       "<table border=\"1\" class=\"dataframe\">\n",
       "  <thead>\n",
       "    <tr style=\"text-align: right;\">\n",
       "      <th></th>\n",
       "      <th>title</th>\n",
       "      <th>book_id</th>\n",
       "      <th>author_id</th>\n",
       "      <th>count_rating</th>\n",
       "      <th>avg_rating</th>\n",
       "    </tr>\n",
       "  </thead>\n",
       "  <tbody>\n",
       "    <tr>\n",
       "      <th>0</th>\n",
       "      <td>Twilight (Twilight  #1)</td>\n",
       "      <td>948</td>\n",
       "      <td>554</td>\n",
       "      <td>160</td>\n",
       "      <td>3.662500</td>\n",
       "    </tr>\n",
       "    <tr>\n",
       "      <th>1</th>\n",
       "      <td>The Hobbit  or There and Back Again</td>\n",
       "      <td>750</td>\n",
       "      <td>240</td>\n",
       "      <td>88</td>\n",
       "      <td>4.125000</td>\n",
       "    </tr>\n",
       "    <tr>\n",
       "      <th>2</th>\n",
       "      <td>The Catcher in the Rye</td>\n",
       "      <td>673</td>\n",
       "      <td>235</td>\n",
       "      <td>86</td>\n",
       "      <td>3.825581</td>\n",
       "    </tr>\n",
       "    <tr>\n",
       "      <th>3</th>\n",
       "      <td>Angels &amp; Demons (Robert Langdon  #1)</td>\n",
       "      <td>75</td>\n",
       "      <td>106</td>\n",
       "      <td>84</td>\n",
       "      <td>3.678571</td>\n",
       "    </tr>\n",
       "    <tr>\n",
       "      <th>4</th>\n",
       "      <td>Harry Potter and the Prisoner of Azkaban (Harr...</td>\n",
       "      <td>302</td>\n",
       "      <td>236</td>\n",
       "      <td>82</td>\n",
       "      <td>4.414634</td>\n",
       "    </tr>\n",
       "    <tr>\n",
       "      <th>5</th>\n",
       "      <td>Harry Potter and the Chamber of Secrets (Harry...</td>\n",
       "      <td>299</td>\n",
       "      <td>236</td>\n",
       "      <td>80</td>\n",
       "      <td>4.287500</td>\n",
       "    </tr>\n",
       "    <tr>\n",
       "      <th>6</th>\n",
       "      <td>Harry Potter and the Order of the Phoenix (Har...</td>\n",
       "      <td>301</td>\n",
       "      <td>236</td>\n",
       "      <td>75</td>\n",
       "      <td>4.186667</td>\n",
       "    </tr>\n",
       "    <tr>\n",
       "      <th>7</th>\n",
       "      <td>Animal Farm</td>\n",
       "      <td>79</td>\n",
       "      <td>195</td>\n",
       "      <td>74</td>\n",
       "      <td>3.729730</td>\n",
       "    </tr>\n",
       "    <tr>\n",
       "      <th>8</th>\n",
       "      <td>The Fellowship of the Ring (The Lord of the Ri...</td>\n",
       "      <td>722</td>\n",
       "      <td>240</td>\n",
       "      <td>74</td>\n",
       "      <td>4.391892</td>\n",
       "    </tr>\n",
       "    <tr>\n",
       "      <th>9</th>\n",
       "      <td>Harry Potter and the Half-Blood Prince (Harry ...</td>\n",
       "      <td>300</td>\n",
       "      <td>236</td>\n",
       "      <td>73</td>\n",
       "      <td>4.246575</td>\n",
       "    </tr>\n",
       "    <tr>\n",
       "      <th>10</th>\n",
       "      <td>Lord of the Flies</td>\n",
       "      <td>405</td>\n",
       "      <td>621</td>\n",
       "      <td>71</td>\n",
       "      <td>3.901408</td>\n",
       "    </tr>\n",
       "    <tr>\n",
       "      <th>11</th>\n",
       "      <td>Romeo and Juliet</td>\n",
       "      <td>545</td>\n",
       "      <td>630</td>\n",
       "      <td>66</td>\n",
       "      <td>3.787879</td>\n",
       "    </tr>\n",
       "    <tr>\n",
       "      <th>12</th>\n",
       "      <td>The Lightning Thief (Percy Jackson and the Oly...</td>\n",
       "      <td>779</td>\n",
       "      <td>498</td>\n",
       "      <td>62</td>\n",
       "      <td>4.080645</td>\n",
       "    </tr>\n",
       "    <tr>\n",
       "      <th>13</th>\n",
       "      <td>Of Mice and Men</td>\n",
       "      <td>488</td>\n",
       "      <td>311</td>\n",
       "      <td>61</td>\n",
       "      <td>3.622951</td>\n",
       "    </tr>\n",
       "    <tr>\n",
       "      <th>14</th>\n",
       "      <td>The Da Vinci Code (Robert Langdon  #2)</td>\n",
       "      <td>696</td>\n",
       "      <td>106</td>\n",
       "      <td>59</td>\n",
       "      <td>3.830508</td>\n",
       "    </tr>\n",
       "    <tr>\n",
       "      <th>15</th>\n",
       "      <td>The Alchemist</td>\n",
       "      <td>627</td>\n",
       "      <td>469</td>\n",
       "      <td>57</td>\n",
       "      <td>3.789474</td>\n",
       "    </tr>\n",
       "    <tr>\n",
       "      <th>16</th>\n",
       "      <td>The Giver (The Giver  #1)</td>\n",
       "      <td>733</td>\n",
       "      <td>372</td>\n",
       "      <td>56</td>\n",
       "      <td>3.750000</td>\n",
       "    </tr>\n",
       "    <tr>\n",
       "      <th>17</th>\n",
       "      <td>The Book Thief</td>\n",
       "      <td>656</td>\n",
       "      <td>402</td>\n",
       "      <td>53</td>\n",
       "      <td>4.264151</td>\n",
       "    </tr>\n",
       "    <tr>\n",
       "      <th>18</th>\n",
       "      <td>Little Women</td>\n",
       "      <td>399</td>\n",
       "      <td>376</td>\n",
       "      <td>52</td>\n",
       "      <td>4.192308</td>\n",
       "    </tr>\n",
       "  </tbody>\n",
       "</table>\n",
       "</div>"
      ],
      "text/plain": [
       "                                                title  book_id  author_id  \\\n",
       "0                             Twilight (Twilight  #1)      948        554   \n",
       "1                 The Hobbit  or There and Back Again      750        240   \n",
       "2                              The Catcher in the Rye      673        235   \n",
       "3                Angels & Demons (Robert Langdon  #1)       75        106   \n",
       "4   Harry Potter and the Prisoner of Azkaban (Harr...      302        236   \n",
       "5   Harry Potter and the Chamber of Secrets (Harry...      299        236   \n",
       "6   Harry Potter and the Order of the Phoenix (Har...      301        236   \n",
       "7                                         Animal Farm       79        195   \n",
       "8   The Fellowship of the Ring (The Lord of the Ri...      722        240   \n",
       "9   Harry Potter and the Half-Blood Prince (Harry ...      300        236   \n",
       "10                                  Lord of the Flies      405        621   \n",
       "11                                   Romeo and Juliet      545        630   \n",
       "12  The Lightning Thief (Percy Jackson and the Oly...      779        498   \n",
       "13                                    Of Mice and Men      488        311   \n",
       "14             The Da Vinci Code (Robert Langdon  #2)      696        106   \n",
       "15                                      The Alchemist      627        469   \n",
       "16                          The Giver (The Giver  #1)      733        372   \n",
       "17                                     The Book Thief      656        402   \n",
       "18                                       Little Women      399        376   \n",
       "\n",
       "    count_rating  avg_rating  \n",
       "0            160    3.662500  \n",
       "1             88    4.125000  \n",
       "2             86    3.825581  \n",
       "3             84    3.678571  \n",
       "4             82    4.414634  \n",
       "5             80    4.287500  \n",
       "6             75    4.186667  \n",
       "7             74    3.729730  \n",
       "8             74    4.391892  \n",
       "9             73    4.246575  \n",
       "10            71    3.901408  \n",
       "11            66    3.787879  \n",
       "12            62    4.080645  \n",
       "13            61    3.622951  \n",
       "14            59    3.830508  \n",
       "15            57    3.789474  \n",
       "16            56    3.750000  \n",
       "17            53    4.264151  \n",
       "18            52    4.192308  "
      ]
     },
     "execution_count": 30,
     "metadata": {},
     "output_type": "execute_result"
    }
   ],
   "source": [
    "books_ratings_count = pd.io.sql.read_sql(\"SELECT title, book_id, author_id, COUNT(rating) AS count_rating, AVG(rating) AS avg_rating FROM books JOIN ratings USING (book_id) GROUP BY (book_id) HAVING COUNT(rating) >= 50 ORDER BY (count_rating) DESC\", con = engine)\n",
    "books_ratings_count"
   ]
  },
  {
   "cell_type": "code",
   "execution_count": 31,
   "id": "4497d761",
   "metadata": {},
   "outputs": [
    {
     "data": {
      "text/html": [
       "<div>\n",
       "<style scoped>\n",
       "    .dataframe tbody tr th:only-of-type {\n",
       "        vertical-align: middle;\n",
       "    }\n",
       "\n",
       "    .dataframe tbody tr th {\n",
       "        vertical-align: top;\n",
       "    }\n",
       "\n",
       "    .dataframe thead th {\n",
       "        text-align: right;\n",
       "    }\n",
       "</style>\n",
       "<table border=\"1\" class=\"dataframe\">\n",
       "  <thead>\n",
       "    <tr style=\"text-align: right;\">\n",
       "      <th></th>\n",
       "      <th>author</th>\n",
       "      <th>author_id</th>\n",
       "      <th>avg_author_rating</th>\n",
       "    </tr>\n",
       "  </thead>\n",
       "  <tbody>\n",
       "    <tr>\n",
       "      <th>0</th>\n",
       "      <td>J.K. Rowling/Mary GrandPré</td>\n",
       "      <td>236</td>\n",
       "      <td>4.283844</td>\n",
       "    </tr>\n",
       "  </tbody>\n",
       "</table>\n",
       "</div>"
      ],
      "text/plain": [
       "                       author  author_id  avg_author_rating\n",
       "0  J.K. Rowling/Mary GrandPré        236           4.283844"
      ]
     },
     "execution_count": 31,
     "metadata": {},
     "output_type": "execute_result"
    }
   ],
   "source": [
    "books_ratings_reviews = pd.io.sql.read_sql(\"WITH books_ratings_count AS(SELECT title, book_id, author_id, COUNT(rating) AS count_rating, AVG(rating) AS avg_rating FROM books JOIN ratings USING (book_id) GROUP BY (book_id) HAVING COUNT(rating) >= 50 ORDER BY (count_rating) DESC) SELECT author, author_id, AVG(avg_rating) AS avg_author_rating FROM authors JOIN books_ratings_count USING (author_id) GROUP BY (author_id) ORDER BY (avg_author_rating) DESC LIMIT 1\", con = engine)\n",
    "books_ratings_reviews"
   ]
  },
  {
   "cell_type": "markdown",
   "id": "5985e5ed",
   "metadata": {},
   "source": [
    "### Conclusion:\n",
    "- J.K. Rowling/Mary GrandPré has the highest average rating among books with at least 50 ratings."
   ]
  },
  {
   "cell_type": "markdown",
   "id": "2405fbd0",
   "metadata": {},
   "source": [
    "## Finding the average number of text reviews among users who rated more than 50 books. "
   ]
  },
  {
   "cell_type": "code",
   "execution_count": 32,
   "id": "6fa6f33a",
   "metadata": {},
   "outputs": [
    {
     "data": {
      "text/html": [
       "<div>\n",
       "<style scoped>\n",
       "    .dataframe tbody tr th:only-of-type {\n",
       "        vertical-align: middle;\n",
       "    }\n",
       "\n",
       "    .dataframe tbody tr th {\n",
       "        vertical-align: top;\n",
       "    }\n",
       "\n",
       "    .dataframe thead th {\n",
       "        text-align: right;\n",
       "    }\n",
       "</style>\n",
       "<table border=\"1\" class=\"dataframe\">\n",
       "  <thead>\n",
       "    <tr style=\"text-align: right;\">\n",
       "      <th></th>\n",
       "      <th>rating_id</th>\n",
       "      <th>book_id</th>\n",
       "      <th>username</th>\n",
       "      <th>rating</th>\n",
       "    </tr>\n",
       "  </thead>\n",
       "  <tbody>\n",
       "    <tr>\n",
       "      <th>0</th>\n",
       "      <td>1</td>\n",
       "      <td>1</td>\n",
       "      <td>ryanfranco</td>\n",
       "      <td>4</td>\n",
       "    </tr>\n",
       "    <tr>\n",
       "      <th>1</th>\n",
       "      <td>2</td>\n",
       "      <td>1</td>\n",
       "      <td>grantpatricia</td>\n",
       "      <td>2</td>\n",
       "    </tr>\n",
       "    <tr>\n",
       "      <th>2</th>\n",
       "      <td>3</td>\n",
       "      <td>1</td>\n",
       "      <td>brandtandrea</td>\n",
       "      <td>5</td>\n",
       "    </tr>\n",
       "    <tr>\n",
       "      <th>3</th>\n",
       "      <td>4</td>\n",
       "      <td>2</td>\n",
       "      <td>lorichen</td>\n",
       "      <td>3</td>\n",
       "    </tr>\n",
       "    <tr>\n",
       "      <th>4</th>\n",
       "      <td>5</td>\n",
       "      <td>2</td>\n",
       "      <td>mariokeller</td>\n",
       "      <td>2</td>\n",
       "    </tr>\n",
       "  </tbody>\n",
       "</table>\n",
       "</div>"
      ],
      "text/plain": [
       "   rating_id  book_id       username  rating\n",
       "0          1        1     ryanfranco       4\n",
       "1          2        1  grantpatricia       2\n",
       "2          3        1   brandtandrea       5\n",
       "3          4        2       lorichen       3\n",
       "4          5        2    mariokeller       2"
      ]
     },
     "execution_count": 32,
     "metadata": {},
     "output_type": "execute_result"
    }
   ],
   "source": [
    "ratings.head()"
   ]
  },
  {
   "cell_type": "code",
   "execution_count": 33,
   "id": "a121b3bb",
   "metadata": {},
   "outputs": [
    {
     "data": {
      "text/html": [
       "<div>\n",
       "<style scoped>\n",
       "    .dataframe tbody tr th:only-of-type {\n",
       "        vertical-align: middle;\n",
       "    }\n",
       "\n",
       "    .dataframe tbody tr th {\n",
       "        vertical-align: top;\n",
       "    }\n",
       "\n",
       "    .dataframe thead th {\n",
       "        text-align: right;\n",
       "    }\n",
       "</style>\n",
       "<table border=\"1\" class=\"dataframe\">\n",
       "  <thead>\n",
       "    <tr style=\"text-align: right;\">\n",
       "      <th></th>\n",
       "      <th>review_id</th>\n",
       "      <th>book_id</th>\n",
       "      <th>username</th>\n",
       "      <th>text</th>\n",
       "    </tr>\n",
       "  </thead>\n",
       "  <tbody>\n",
       "    <tr>\n",
       "      <th>0</th>\n",
       "      <td>1</td>\n",
       "      <td>1</td>\n",
       "      <td>brandtandrea</td>\n",
       "      <td>Mention society tell send professor analysis. ...</td>\n",
       "    </tr>\n",
       "    <tr>\n",
       "      <th>1</th>\n",
       "      <td>2</td>\n",
       "      <td>1</td>\n",
       "      <td>ryanfranco</td>\n",
       "      <td>Foot glass pretty audience hit themselves. Amo...</td>\n",
       "    </tr>\n",
       "    <tr>\n",
       "      <th>2</th>\n",
       "      <td>3</td>\n",
       "      <td>2</td>\n",
       "      <td>lorichen</td>\n",
       "      <td>Listen treat keep worry. Miss husband tax but ...</td>\n",
       "    </tr>\n",
       "    <tr>\n",
       "      <th>3</th>\n",
       "      <td>4</td>\n",
       "      <td>3</td>\n",
       "      <td>johnsonamanda</td>\n",
       "      <td>Finally month interesting blue could nature cu...</td>\n",
       "    </tr>\n",
       "    <tr>\n",
       "      <th>4</th>\n",
       "      <td>5</td>\n",
       "      <td>3</td>\n",
       "      <td>scotttamara</td>\n",
       "      <td>Nation purpose heavy give wait song will. List...</td>\n",
       "    </tr>\n",
       "  </tbody>\n",
       "</table>\n",
       "</div>"
      ],
      "text/plain": [
       "   review_id  book_id       username  \\\n",
       "0          1        1   brandtandrea   \n",
       "1          2        1     ryanfranco   \n",
       "2          3        2       lorichen   \n",
       "3          4        3  johnsonamanda   \n",
       "4          5        3    scotttamara   \n",
       "\n",
       "                                                text  \n",
       "0  Mention society tell send professor analysis. ...  \n",
       "1  Foot glass pretty audience hit themselves. Amo...  \n",
       "2  Listen treat keep worry. Miss husband tax but ...  \n",
       "3  Finally month interesting blue could nature cu...  \n",
       "4  Nation purpose heavy give wait song will. List...  "
      ]
     },
     "execution_count": 33,
     "metadata": {},
     "output_type": "execute_result"
    }
   ],
   "source": [
    "reviews.head()"
   ]
  },
  {
   "cell_type": "code",
   "execution_count": 34,
   "id": "22770d57",
   "metadata": {},
   "outputs": [
    {
     "data": {
      "text/html": [
       "<div>\n",
       "<style scoped>\n",
       "    .dataframe tbody tr th:only-of-type {\n",
       "        vertical-align: middle;\n",
       "    }\n",
       "\n",
       "    .dataframe tbody tr th {\n",
       "        vertical-align: top;\n",
       "    }\n",
       "\n",
       "    .dataframe thead th {\n",
       "        text-align: right;\n",
       "    }\n",
       "</style>\n",
       "<table border=\"1\" class=\"dataframe\">\n",
       "  <thead>\n",
       "    <tr style=\"text-align: right;\">\n",
       "      <th></th>\n",
       "      <th>username</th>\n",
       "      <th>reviews_count</th>\n",
       "    </tr>\n",
       "  </thead>\n",
       "  <tbody>\n",
       "    <tr>\n",
       "      <th>0</th>\n",
       "      <td>susan85</td>\n",
       "      <td>29</td>\n",
       "    </tr>\n",
       "    <tr>\n",
       "      <th>1</th>\n",
       "      <td>sfitzgerald</td>\n",
       "      <td>28</td>\n",
       "    </tr>\n",
       "    <tr>\n",
       "      <th>2</th>\n",
       "      <td>martinadam</td>\n",
       "      <td>27</td>\n",
       "    </tr>\n",
       "    <tr>\n",
       "      <th>3</th>\n",
       "      <td>lesliegibbs</td>\n",
       "      <td>26</td>\n",
       "    </tr>\n",
       "    <tr>\n",
       "      <th>4</th>\n",
       "      <td>eallen</td>\n",
       "      <td>26</td>\n",
       "    </tr>\n",
       "  </tbody>\n",
       "</table>\n",
       "</div>"
      ],
      "text/plain": [
       "      username  reviews_count\n",
       "0      susan85             29\n",
       "1  sfitzgerald             28\n",
       "2   martinadam             27\n",
       "3  lesliegibbs             26\n",
       "4       eallen             26"
      ]
     },
     "execution_count": 34,
     "metadata": {},
     "output_type": "execute_result"
    }
   ],
   "source": [
    "reviews_count = pd.io.sql.read_sql(\"SELECT username, COUNT(review_id) AS reviews_count FROM reviews GROUP BY (username) ORDER BY (reviews_count) DESC\", con = engine)\n",
    "reviews_count.head()"
   ]
  },
  {
   "cell_type": "code",
   "execution_count": 35,
   "id": "93306385",
   "metadata": {},
   "outputs": [
    {
     "data": {
      "text/html": [
       "<div>\n",
       "<style scoped>\n",
       "    .dataframe tbody tr th:only-of-type {\n",
       "        vertical-align: middle;\n",
       "    }\n",
       "\n",
       "    .dataframe tbody tr th {\n",
       "        vertical-align: top;\n",
       "    }\n",
       "\n",
       "    .dataframe thead th {\n",
       "        text-align: right;\n",
       "    }\n",
       "</style>\n",
       "<table border=\"1\" class=\"dataframe\">\n",
       "  <thead>\n",
       "    <tr style=\"text-align: right;\">\n",
       "      <th></th>\n",
       "      <th>username</th>\n",
       "      <th>ratings_count</th>\n",
       "    </tr>\n",
       "  </thead>\n",
       "  <tbody>\n",
       "    <tr>\n",
       "      <th>0</th>\n",
       "      <td>paul88</td>\n",
       "      <td>56</td>\n",
       "    </tr>\n",
       "    <tr>\n",
       "      <th>1</th>\n",
       "      <td>martinadam</td>\n",
       "      <td>56</td>\n",
       "    </tr>\n",
       "    <tr>\n",
       "      <th>2</th>\n",
       "      <td>sfitzgerald</td>\n",
       "      <td>55</td>\n",
       "    </tr>\n",
       "    <tr>\n",
       "      <th>3</th>\n",
       "      <td>richard89</td>\n",
       "      <td>55</td>\n",
       "    </tr>\n",
       "    <tr>\n",
       "      <th>4</th>\n",
       "      <td>jennifermiller</td>\n",
       "      <td>53</td>\n",
       "    </tr>\n",
       "  </tbody>\n",
       "</table>\n",
       "</div>"
      ],
      "text/plain": [
       "         username  ratings_count\n",
       "0          paul88             56\n",
       "1      martinadam             56\n",
       "2     sfitzgerald             55\n",
       "3       richard89             55\n",
       "4  jennifermiller             53"
      ]
     },
     "execution_count": 35,
     "metadata": {},
     "output_type": "execute_result"
    }
   ],
   "source": [
    "ratings_count = pd.io.sql.read_sql(\"SELECT username, COUNT(rating_id) AS ratings_count FROM ratings GROUP BY (username) HAVING COUNT(rating_id) > 50 ORDER BY (ratings_count) DESC\", con = engine)\n",
    "ratings_count.head()"
   ]
  },
  {
   "cell_type": "code",
   "execution_count": 36,
   "id": "16d48d82",
   "metadata": {},
   "outputs": [
    {
     "data": {
      "text/html": [
       "<div>\n",
       "<style scoped>\n",
       "    .dataframe tbody tr th:only-of-type {\n",
       "        vertical-align: middle;\n",
       "    }\n",
       "\n",
       "    .dataframe tbody tr th {\n",
       "        vertical-align: top;\n",
       "    }\n",
       "\n",
       "    .dataframe thead th {\n",
       "        text-align: right;\n",
       "    }\n",
       "</style>\n",
       "<table border=\"1\" class=\"dataframe\">\n",
       "  <thead>\n",
       "    <tr style=\"text-align: right;\">\n",
       "      <th></th>\n",
       "      <th>avg_reviews_count</th>\n",
       "    </tr>\n",
       "  </thead>\n",
       "  <tbody>\n",
       "    <tr>\n",
       "      <th>0</th>\n",
       "      <td>24.333333</td>\n",
       "    </tr>\n",
       "  </tbody>\n",
       "</table>\n",
       "</div>"
      ],
      "text/plain": [
       "   avg_reviews_count\n",
       "0          24.333333"
      ]
     },
     "execution_count": 36,
     "metadata": {},
     "output_type": "execute_result"
    }
   ],
   "source": [
    "avg_reviews = pd.io.sql.read_sql(\"WITH reviews_count AS (SELECT username, COUNT(review_id) AS reviews_count FROM reviews GROUP BY (username)), ratings_count AS (SELECT username, COUNT(rating_id) AS ratings_count FROM ratings GROUP BY (username) HAVING COUNT(rating_id) > 50) SELECT AVG(reviews_count) AS avg_reviews_count FROM ratings_count JOIN reviews_count USING (username)\", con = engine)\n",
    "avg_reviews"
   ]
  },
  {
   "cell_type": "markdown",
   "id": "0b68b6c2",
   "metadata": {},
   "source": [
    "### Conclusion:\n",
    "- The average number of text reviews among users who rated more than 50 books is around 24."
   ]
  },
  {
   "cell_type": "markdown",
   "id": "43beafd3",
   "metadata": {},
   "source": [
    "## Overall Conclusions\n",
    "- There are 821 books published after January 1, 2020.\n",
    "- The biggest number of user reviews for a book is 7, and it belongs to Twilligt (#1);\n",
    "- The highest average rating for a book is 5.0;\n",
    "- The lowest average rating (1.5) belongs to \"Harvesting the Heart\";\n",
    "- Penguin Books has released the greatest number of books (42) of more than 50 pages;\n",
    "- J.K. Rowling/Mary GrandPré has the highest average rating among books with at least 50 ratings;\n",
    "- The average number of text reviews among users who rated more than 50 books is around 24."
   ]
  }
 ],
 "metadata": {
  "ExecuteTimeLog": [
   {
    "duration": 6390,
    "start_time": "2022-06-25T12:51:06.787Z"
   },
   {
    "duration": 107,
    "start_time": "2022-06-25T12:53:36.742Z"
   },
   {
    "duration": 6,
    "start_time": "2022-06-25T12:53:43.947Z"
   },
   {
    "duration": 15,
    "start_time": "2022-06-25T12:53:44.229Z"
   },
   {
    "duration": 4,
    "start_time": "2022-06-25T14:30:04.902Z"
   },
   {
    "duration": 7,
    "start_time": "2022-06-25T14:30:05.200Z"
   },
   {
    "duration": 7072,
    "start_time": "2022-06-25T14:30:21.305Z"
   },
   {
    "duration": 72,
    "start_time": "2022-06-25T14:30:28.380Z"
   },
   {
    "duration": 72,
    "start_time": "2022-06-25T14:33:01.312Z"
   },
   {
    "duration": 63,
    "start_time": "2022-06-25T14:33:05.500Z"
   },
   {
    "duration": 8,
    "start_time": "2022-06-25T14:34:23.218Z"
   },
   {
    "duration": 82,
    "start_time": "2022-06-25T14:38:05.611Z"
   },
   {
    "duration": 59,
    "start_time": "2022-06-25T14:38:23.202Z"
   },
   {
    "duration": 297,
    "start_time": "2022-06-25T14:38:25.813Z"
   },
   {
    "duration": 5,
    "start_time": "2022-06-25T14:38:55.162Z"
   },
   {
    "duration": 308,
    "start_time": "2022-06-25T14:38:55.539Z"
   },
   {
    "duration": 104,
    "start_time": "2022-06-25T14:39:51.366Z"
   },
   {
    "duration": 96,
    "start_time": "2022-06-25T14:40:08.019Z"
   },
   {
    "duration": 79,
    "start_time": "2022-06-25T14:40:38.522Z"
   },
   {
    "duration": 75,
    "start_time": "2022-06-25T14:40:44.218Z"
   },
   {
    "duration": 120,
    "start_time": "2022-06-25T14:41:20.977Z"
   },
   {
    "duration": 122,
    "start_time": "2022-06-25T14:41:29.621Z"
   },
   {
    "duration": 64,
    "start_time": "2022-06-25T14:41:49.059Z"
   },
   {
    "duration": 7,
    "start_time": "2022-06-25T14:42:18.392Z"
   },
   {
    "duration": 74,
    "start_time": "2022-06-25T14:42:21.166Z"
   },
   {
    "duration": 8,
    "start_time": "2022-06-25T14:42:22.151Z"
   },
   {
    "duration": 5953,
    "start_time": "2022-06-25T14:44:52.647Z"
   },
   {
    "duration": 260,
    "start_time": "2022-06-25T14:44:58.602Z"
   },
   {
    "duration": 14,
    "start_time": "2022-06-25T14:44:58.863Z"
   },
   {
    "duration": 10,
    "start_time": "2022-06-25T14:44:58.879Z"
   },
   {
    "duration": 70,
    "start_time": "2022-06-25T14:44:58.890Z"
   },
   {
    "duration": 6,
    "start_time": "2022-06-25T14:44:58.963Z"
   },
   {
    "duration": 12,
    "start_time": "2022-06-25T14:44:58.970Z"
   },
   {
    "duration": 96,
    "start_time": "2022-06-25T14:44:58.983Z"
   },
   {
    "duration": 7,
    "start_time": "2022-06-25T14:44:59.081Z"
   },
   {
    "duration": 12,
    "start_time": "2022-06-25T14:44:59.091Z"
   },
   {
    "duration": 88,
    "start_time": "2022-06-25T14:44:59.105Z"
   },
   {
    "duration": 7,
    "start_time": "2022-06-25T14:44:59.195Z"
   },
   {
    "duration": 12,
    "start_time": "2022-06-25T14:44:59.203Z"
   },
   {
    "duration": 75,
    "start_time": "2022-06-25T14:44:59.216Z"
   },
   {
    "duration": 6,
    "start_time": "2022-06-25T14:44:59.292Z"
   },
   {
    "duration": 11,
    "start_time": "2022-06-25T14:44:59.300Z"
   },
   {
    "duration": 67,
    "start_time": "2022-06-25T15:30:17.340Z"
   },
   {
    "duration": 7,
    "start_time": "2022-06-25T15:30:23.322Z"
   },
   {
    "duration": 7,
    "start_time": "2022-06-25T15:30:33.161Z"
   },
   {
    "duration": 8,
    "start_time": "2022-06-25T15:32:53.941Z"
   },
   {
    "duration": 70,
    "start_time": "2022-06-25T15:35:26.903Z"
   },
   {
    "duration": 69,
    "start_time": "2022-06-25T15:37:04.819Z"
   },
   {
    "duration": 8,
    "start_time": "2022-06-25T15:37:09.660Z"
   },
   {
    "duration": 97,
    "start_time": "2022-06-25T15:37:13.723Z"
   },
   {
    "duration": 92,
    "start_time": "2022-06-25T15:37:29.715Z"
   },
   {
    "duration": 94,
    "start_time": "2022-06-25T15:37:36.956Z"
   },
   {
    "duration": 760,
    "start_time": "2022-06-25T15:38:39.282Z"
   },
   {
    "duration": 228,
    "start_time": "2022-06-25T15:38:53.678Z"
   },
   {
    "duration": 3,
    "start_time": "2022-06-25T15:39:02.344Z"
   },
   {
    "duration": 102,
    "start_time": "2022-06-25T15:44:49.977Z"
   },
   {
    "duration": 129,
    "start_time": "2022-06-25T15:45:03.806Z"
   },
   {
    "duration": 8,
    "start_time": "2022-06-25T15:45:05.992Z"
   },
   {
    "duration": 166,
    "start_time": "2022-06-25T15:45:46.845Z"
   },
   {
    "duration": 123,
    "start_time": "2022-06-25T15:45:55.662Z"
   },
   {
    "duration": 133,
    "start_time": "2022-06-25T15:46:04.992Z"
   },
   {
    "duration": 59,
    "start_time": "2022-06-25T15:49:58.790Z"
   },
   {
    "duration": 70,
    "start_time": "2022-06-25T15:50:07.405Z"
   },
   {
    "duration": 325,
    "start_time": "2022-06-25T15:50:09.488Z"
   },
   {
    "duration": 326,
    "start_time": "2022-06-25T15:50:22.185Z"
   },
   {
    "duration": 162,
    "start_time": "2022-06-25T15:51:30.378Z"
   },
   {
    "duration": 184,
    "start_time": "2022-06-25T15:52:03.482Z"
   },
   {
    "duration": 130,
    "start_time": "2022-06-25T15:52:33.482Z"
   },
   {
    "duration": 155,
    "start_time": "2022-06-25T15:52:41.719Z"
   },
   {
    "duration": 160,
    "start_time": "2022-06-25T15:57:07.255Z"
   },
   {
    "duration": 135,
    "start_time": "2022-06-25T15:57:21.187Z"
   },
   {
    "duration": 181,
    "start_time": "2022-06-25T15:57:38.058Z"
   },
   {
    "duration": 80,
    "start_time": "2022-06-25T15:57:49.249Z"
   },
   {
    "duration": 159,
    "start_time": "2022-06-25T15:59:30.265Z"
   },
   {
    "duration": 138,
    "start_time": "2022-06-25T15:59:37.816Z"
   },
   {
    "duration": 141,
    "start_time": "2022-06-25T16:00:09.887Z"
   },
   {
    "duration": 132,
    "start_time": "2022-06-25T16:00:24.440Z"
   },
   {
    "duration": 159,
    "start_time": "2022-06-25T16:00:34.765Z"
   },
   {
    "duration": 93,
    "start_time": "2022-06-25T16:03:57.618Z"
   },
   {
    "duration": 97,
    "start_time": "2022-06-25T16:04:10.819Z"
   },
   {
    "duration": 98,
    "start_time": "2022-06-25T16:04:36.709Z"
   },
   {
    "duration": 96,
    "start_time": "2022-06-25T16:05:12.143Z"
   },
   {
    "duration": 3,
    "start_time": "2022-06-25T16:06:24.099Z"
   },
   {
    "duration": 132,
    "start_time": "2022-06-25T16:57:19.389Z"
   },
   {
    "duration": 100,
    "start_time": "2022-06-25T16:59:23.142Z"
   },
   {
    "duration": 90,
    "start_time": "2022-06-25T16:59:35.297Z"
   },
   {
    "duration": 96,
    "start_time": "2022-06-25T16:59:39.974Z"
   },
   {
    "duration": 8,
    "start_time": "2022-06-25T17:00:11.217Z"
   },
   {
    "duration": 15,
    "start_time": "2022-06-25T17:01:05.703Z"
   },
   {
    "duration": 8,
    "start_time": "2022-06-25T17:03:02.994Z"
   },
   {
    "duration": 15,
    "start_time": "2022-06-25T17:12:46.423Z"
   },
   {
    "duration": 6470,
    "start_time": "2022-06-25T17:15:13.144Z"
   },
   {
    "duration": 225,
    "start_time": "2022-06-25T17:15:19.616Z"
   },
   {
    "duration": 15,
    "start_time": "2022-06-25T17:15:19.842Z"
   },
   {
    "duration": 18,
    "start_time": "2022-06-25T17:15:19.859Z"
   },
   {
    "duration": 73,
    "start_time": "2022-06-25T17:15:19.879Z"
   },
   {
    "duration": 7,
    "start_time": "2022-06-25T17:15:19.954Z"
   },
   {
    "duration": 17,
    "start_time": "2022-06-25T17:15:19.963Z"
   },
   {
    "duration": 90,
    "start_time": "2022-06-25T17:15:19.982Z"
   },
   {
    "duration": 8,
    "start_time": "2022-06-25T17:15:20.074Z"
   },
   {
    "duration": 12,
    "start_time": "2022-06-25T17:15:20.084Z"
   },
   {
    "duration": 95,
    "start_time": "2022-06-25T17:15:20.098Z"
   },
   {
    "duration": 9,
    "start_time": "2022-06-25T17:15:20.194Z"
   },
   {
    "duration": 14,
    "start_time": "2022-06-25T17:15:20.204Z"
   },
   {
    "duration": 65,
    "start_time": "2022-06-25T17:15:20.221Z"
   },
   {
    "duration": 7,
    "start_time": "2022-06-25T17:15:20.288Z"
   },
   {
    "duration": 13,
    "start_time": "2022-06-25T17:15:20.297Z"
   },
   {
    "duration": 96,
    "start_time": "2022-06-25T17:15:20.311Z"
   },
   {
    "duration": 70,
    "start_time": "2022-06-25T17:15:20.409Z"
   },
   {
    "duration": 8,
    "start_time": "2022-06-25T17:15:20.481Z"
   },
   {
    "duration": 80,
    "start_time": "2022-06-25T17:15:20.491Z"
   },
   {
    "duration": 8,
    "start_time": "2022-06-25T17:15:20.572Z"
   },
   {
    "duration": 8,
    "start_time": "2022-06-25T17:15:20.582Z"
   },
   {
    "duration": 199,
    "start_time": "2022-06-25T17:15:20.592Z"
   },
   {
    "duration": 0,
    "start_time": "2022-06-25T17:15:20.793Z"
   },
   {
    "duration": 0,
    "start_time": "2022-06-25T17:15:20.795Z"
   },
   {
    "duration": 124,
    "start_time": "2022-06-25T17:15:39.157Z"
   },
   {
    "duration": 67,
    "start_time": "2022-06-25T17:16:38.505Z"
   },
   {
    "duration": 67,
    "start_time": "2022-06-25T17:16:54.745Z"
   },
   {
    "duration": 3,
    "start_time": "2022-06-25T17:18:53.164Z"
   },
   {
    "duration": 7,
    "start_time": "2022-06-25T17:19:15.298Z"
   },
   {
    "duration": 9,
    "start_time": "2022-06-25T17:22:08.520Z"
   },
   {
    "duration": 118,
    "start_time": "2022-06-25T17:24:23.988Z"
   },
   {
    "duration": 93,
    "start_time": "2022-06-25T17:24:34.245Z"
   },
   {
    "duration": 128,
    "start_time": "2022-06-25T17:26:21.410Z"
   },
   {
    "duration": 121,
    "start_time": "2022-06-25T17:26:31.941Z"
   },
   {
    "duration": 86,
    "start_time": "2022-06-25T17:27:04.677Z"
   },
   {
    "duration": 91,
    "start_time": "2022-06-25T17:28:36.995Z"
   },
   {
    "duration": 92,
    "start_time": "2022-06-25T17:30:17.421Z"
   },
   {
    "duration": 126,
    "start_time": "2022-06-25T17:31:33.388Z"
   },
   {
    "duration": 186,
    "start_time": "2022-06-25T17:32:02.502Z"
   },
   {
    "duration": 131,
    "start_time": "2022-06-25T17:32:37.067Z"
   },
   {
    "duration": 139,
    "start_time": "2022-06-25T17:38:15.324Z"
   },
   {
    "duration": 155,
    "start_time": "2022-06-25T17:39:05.640Z"
   },
   {
    "duration": 137,
    "start_time": "2022-06-25T17:41:16.161Z"
   },
   {
    "duration": 126,
    "start_time": "2022-06-25T17:41:27.212Z"
   },
   {
    "duration": 159,
    "start_time": "2022-06-25T17:43:49.591Z"
   },
   {
    "duration": 11,
    "start_time": "2022-06-25T17:44:23.146Z"
   },
   {
    "duration": 127,
    "start_time": "2022-06-25T17:45:18.492Z"
   },
   {
    "duration": 11,
    "start_time": "2022-06-25T17:49:25.434Z"
   },
   {
    "duration": 3,
    "start_time": "2022-06-25T17:49:34.399Z"
   },
   {
    "duration": 4,
    "start_time": "2022-06-25T17:49:39.713Z"
   },
   {
    "duration": 4,
    "start_time": "2022-06-25T17:49:53.918Z"
   },
   {
    "duration": 4,
    "start_time": "2022-06-25T17:49:55.407Z"
   },
   {
    "duration": 7,
    "start_time": "2022-06-25T17:50:04.814Z"
   },
   {
    "duration": 138,
    "start_time": "2022-06-25T17:51:28.794Z"
   },
   {
    "duration": 130,
    "start_time": "2022-06-25T17:51:39.004Z"
   },
   {
    "duration": 181,
    "start_time": "2022-06-25T17:55:05.036Z"
   },
   {
    "duration": 90,
    "start_time": "2022-06-25T17:56:11.036Z"
   },
   {
    "duration": 47,
    "start_time": "2022-06-25T17:56:16.248Z"
   },
   {
    "duration": 121,
    "start_time": "2022-06-25T17:56:28.693Z"
   },
   {
    "duration": 126,
    "start_time": "2022-06-25T17:57:42.325Z"
   },
   {
    "duration": 138,
    "start_time": "2022-06-25T17:58:18.563Z"
   },
   {
    "duration": 121,
    "start_time": "2022-06-25T17:58:36.655Z"
   },
   {
    "duration": 193,
    "start_time": "2022-06-25T17:59:06.901Z"
   },
   {
    "duration": 152,
    "start_time": "2022-06-25T17:59:16.157Z"
   },
   {
    "duration": 130,
    "start_time": "2022-06-25T18:00:59.170Z"
   },
   {
    "duration": 119,
    "start_time": "2022-06-25T18:01:26.067Z"
   },
   {
    "duration": 88,
    "start_time": "2022-06-25T18:01:44.311Z"
   },
   {
    "duration": 133,
    "start_time": "2022-06-25T18:01:44.659Z"
   },
   {
    "duration": 7,
    "start_time": "2022-06-25T18:01:54.289Z"
   },
   {
    "duration": 8,
    "start_time": "2022-06-25T18:02:41.310Z"
   },
   {
    "duration": 7,
    "start_time": "2022-06-25T18:02:54.599Z"
   },
   {
    "duration": 4,
    "start_time": "2022-06-25T18:03:01.136Z"
   },
   {
    "duration": 170,
    "start_time": "2022-06-25T18:05:01.323Z"
   },
   {
    "duration": 50,
    "start_time": "2022-06-25T18:05:35.942Z"
   },
   {
    "duration": 103,
    "start_time": "2022-06-25T18:06:10.214Z"
   },
   {
    "duration": 99,
    "start_time": "2022-06-25T18:06:21.331Z"
   },
   {
    "duration": 126,
    "start_time": "2022-06-25T18:07:28.645Z"
   },
   {
    "duration": 133,
    "start_time": "2022-06-25T18:07:36.173Z"
   },
   {
    "duration": 93,
    "start_time": "2022-06-25T18:08:42.606Z"
   },
   {
    "duration": 123,
    "start_time": "2022-06-25T18:09:02.256Z"
   },
   {
    "duration": 150,
    "start_time": "2022-06-25T18:09:45.607Z"
   },
   {
    "duration": 197,
    "start_time": "2022-06-25T18:09:56.775Z"
   },
   {
    "duration": 7,
    "start_time": "2022-06-25T18:12:27.189Z"
   },
   {
    "duration": 92,
    "start_time": "2022-06-25T18:13:52.671Z"
   },
   {
    "duration": 3,
    "start_time": "2022-06-25T18:14:47.325Z"
   },
   {
    "duration": 137,
    "start_time": "2022-06-25T18:14:50.327Z"
   },
   {
    "duration": 130,
    "start_time": "2022-06-25T18:15:15.317Z"
   },
   {
    "duration": 93,
    "start_time": "2022-06-25T18:16:26.716Z"
   },
   {
    "duration": 123,
    "start_time": "2022-06-25T18:20:27.810Z"
   },
   {
    "duration": 127,
    "start_time": "2022-06-25T18:20:31.116Z"
   },
   {
    "duration": 118,
    "start_time": "2022-06-25T18:23:36.673Z"
   },
   {
    "duration": 149,
    "start_time": "2022-06-25T18:23:50.630Z"
   },
   {
    "duration": 71,
    "start_time": "2022-06-25T18:24:21.862Z"
   },
   {
    "duration": 76,
    "start_time": "2022-06-25T18:24:29.666Z"
   },
   {
    "duration": 926,
    "start_time": "2022-06-26T09:55:24.336Z"
   },
   {
    "duration": 0,
    "start_time": "2022-06-26T09:55:25.265Z"
   },
   {
    "duration": 0,
    "start_time": "2022-06-26T09:55:25.265Z"
   },
   {
    "duration": 0,
    "start_time": "2022-06-26T09:55:25.266Z"
   },
   {
    "duration": 0,
    "start_time": "2022-06-26T09:55:25.267Z"
   },
   {
    "duration": 0,
    "start_time": "2022-06-26T09:55:25.269Z"
   },
   {
    "duration": 0,
    "start_time": "2022-06-26T09:55:25.270Z"
   },
   {
    "duration": 0,
    "start_time": "2022-06-26T09:55:25.271Z"
   },
   {
    "duration": 0,
    "start_time": "2022-06-26T09:55:25.272Z"
   },
   {
    "duration": 0,
    "start_time": "2022-06-26T09:55:25.273Z"
   },
   {
    "duration": 0,
    "start_time": "2022-06-26T09:55:25.274Z"
   },
   {
    "duration": 0,
    "start_time": "2022-06-26T09:55:25.275Z"
   },
   {
    "duration": 0,
    "start_time": "2022-06-26T09:55:25.276Z"
   },
   {
    "duration": 0,
    "start_time": "2022-06-26T09:55:25.277Z"
   },
   {
    "duration": 0,
    "start_time": "2022-06-26T09:55:25.278Z"
   },
   {
    "duration": 0,
    "start_time": "2022-06-26T09:55:25.279Z"
   },
   {
    "duration": 0,
    "start_time": "2022-06-26T09:55:25.280Z"
   },
   {
    "duration": 0,
    "start_time": "2022-06-26T09:55:25.281Z"
   },
   {
    "duration": 0,
    "start_time": "2022-06-26T09:55:25.282Z"
   },
   {
    "duration": 0,
    "start_time": "2022-06-26T09:55:25.283Z"
   },
   {
    "duration": 0,
    "start_time": "2022-06-26T09:55:25.284Z"
   },
   {
    "duration": 0,
    "start_time": "2022-06-26T09:55:25.285Z"
   },
   {
    "duration": 0,
    "start_time": "2022-06-26T09:55:25.286Z"
   },
   {
    "duration": 0,
    "start_time": "2022-06-26T09:55:25.288Z"
   },
   {
    "duration": 0,
    "start_time": "2022-06-26T09:55:25.289Z"
   },
   {
    "duration": 0,
    "start_time": "2022-06-26T09:55:25.290Z"
   },
   {
    "duration": 0,
    "start_time": "2022-06-26T09:55:25.291Z"
   },
   {
    "duration": 0,
    "start_time": "2022-06-26T09:55:25.292Z"
   },
   {
    "duration": 0,
    "start_time": "2022-06-26T09:55:25.293Z"
   },
   {
    "duration": 0,
    "start_time": "2022-06-26T09:55:25.294Z"
   },
   {
    "duration": 0,
    "start_time": "2022-06-26T09:55:25.295Z"
   },
   {
    "duration": 0,
    "start_time": "2022-06-26T09:55:25.296Z"
   },
   {
    "duration": 162,
    "start_time": "2022-06-26T14:33:22.758Z"
   },
   {
    "duration": 0,
    "start_time": "2022-06-26T14:33:22.923Z"
   },
   {
    "duration": 0,
    "start_time": "2022-06-26T14:33:22.924Z"
   },
   {
    "duration": 0,
    "start_time": "2022-06-26T14:33:22.925Z"
   },
   {
    "duration": 0,
    "start_time": "2022-06-26T14:33:22.926Z"
   },
   {
    "duration": 0,
    "start_time": "2022-06-26T14:33:22.928Z"
   },
   {
    "duration": 0,
    "start_time": "2022-06-26T14:33:22.929Z"
   },
   {
    "duration": 0,
    "start_time": "2022-06-26T14:33:22.930Z"
   },
   {
    "duration": 0,
    "start_time": "2022-06-26T14:33:22.931Z"
   },
   {
    "duration": 0,
    "start_time": "2022-06-26T14:33:22.932Z"
   },
   {
    "duration": 0,
    "start_time": "2022-06-26T14:33:22.933Z"
   },
   {
    "duration": 0,
    "start_time": "2022-06-26T14:33:22.934Z"
   },
   {
    "duration": 0,
    "start_time": "2022-06-26T14:33:22.935Z"
   },
   {
    "duration": 0,
    "start_time": "2022-06-26T14:33:22.936Z"
   },
   {
    "duration": 0,
    "start_time": "2022-06-26T14:33:22.937Z"
   },
   {
    "duration": 0,
    "start_time": "2022-06-26T14:33:22.939Z"
   },
   {
    "duration": 0,
    "start_time": "2022-06-26T14:33:22.940Z"
   },
   {
    "duration": 0,
    "start_time": "2022-06-26T14:33:22.940Z"
   },
   {
    "duration": 0,
    "start_time": "2022-06-26T14:33:22.941Z"
   },
   {
    "duration": 0,
    "start_time": "2022-06-26T14:33:22.942Z"
   },
   {
    "duration": 0,
    "start_time": "2022-06-26T14:33:22.943Z"
   },
   {
    "duration": 0,
    "start_time": "2022-06-26T14:33:22.944Z"
   },
   {
    "duration": 0,
    "start_time": "2022-06-26T14:33:22.946Z"
   },
   {
    "duration": 0,
    "start_time": "2022-06-26T14:33:22.947Z"
   },
   {
    "duration": 0,
    "start_time": "2022-06-26T14:33:22.948Z"
   },
   {
    "duration": 0,
    "start_time": "2022-06-26T14:33:22.949Z"
   },
   {
    "duration": 0,
    "start_time": "2022-06-26T14:33:22.950Z"
   },
   {
    "duration": 0,
    "start_time": "2022-06-26T14:33:22.951Z"
   },
   {
    "duration": 0,
    "start_time": "2022-06-26T14:33:22.952Z"
   },
   {
    "duration": 0,
    "start_time": "2022-06-26T14:33:22.953Z"
   },
   {
    "duration": 0,
    "start_time": "2022-06-26T14:33:22.954Z"
   },
   {
    "duration": 0,
    "start_time": "2022-06-26T14:33:22.955Z"
   },
   {
    "duration": 165,
    "start_time": "2022-06-26T14:33:35.564Z"
   },
   {
    "duration": 6275,
    "start_time": "2022-06-26T14:34:00.786Z"
   },
   {
    "duration": 261,
    "start_time": "2022-06-26T14:34:07.063Z"
   },
   {
    "duration": 15,
    "start_time": "2022-06-26T14:34:07.326Z"
   },
   {
    "duration": 13,
    "start_time": "2022-06-26T14:34:07.343Z"
   },
   {
    "duration": 71,
    "start_time": "2022-06-26T14:34:07.358Z"
   },
   {
    "duration": 8,
    "start_time": "2022-06-26T14:34:07.430Z"
   },
   {
    "duration": 14,
    "start_time": "2022-06-26T14:34:07.440Z"
   },
   {
    "duration": 100,
    "start_time": "2022-06-26T14:34:07.456Z"
   },
   {
    "duration": 7,
    "start_time": "2022-06-26T14:34:07.558Z"
   },
   {
    "duration": 15,
    "start_time": "2022-06-26T14:34:07.567Z"
   },
   {
    "duration": 84,
    "start_time": "2022-06-26T14:34:07.584Z"
   },
   {
    "duration": 7,
    "start_time": "2022-06-26T14:34:07.670Z"
   },
   {
    "duration": 14,
    "start_time": "2022-06-26T14:34:07.678Z"
   },
   {
    "duration": 75,
    "start_time": "2022-06-26T14:34:07.694Z"
   },
   {
    "duration": 10,
    "start_time": "2022-06-26T14:34:07.771Z"
   },
   {
    "duration": 13,
    "start_time": "2022-06-26T14:34:07.782Z"
   },
   {
    "duration": 94,
    "start_time": "2022-06-26T14:34:10.082Z"
   },
   {
    "duration": 96,
    "start_time": "2022-06-26T14:34:10.658Z"
   },
   {
    "duration": 9,
    "start_time": "2022-06-26T14:34:12.678Z"
   },
   {
    "duration": 100,
    "start_time": "2022-06-26T14:34:13.187Z"
   },
   {
    "duration": 8,
    "start_time": "2022-06-26T14:34:13.290Z"
   },
   {
    "duration": 7,
    "start_time": "2022-06-26T14:34:13.658Z"
   },
   {
    "duration": 74,
    "start_time": "2022-06-26T14:34:15.977Z"
   },
   {
    "duration": 8,
    "start_time": "2022-06-26T14:34:16.827Z"
   },
   {
    "duration": 2,
    "start_time": "2022-06-26T14:34:18.531Z"
   },
   {
    "duration": 82,
    "start_time": "2022-06-26T14:34:18.840Z"
   },
   {
    "duration": 98,
    "start_time": "2022-06-26T14:34:33.596Z"
   },
   {
    "duration": 133,
    "start_time": "2022-06-26T14:34:44.647Z"
   },
   {
    "duration": 133,
    "start_time": "2022-06-26T14:34:51.497Z"
   },
   {
    "duration": 143,
    "start_time": "2022-06-26T14:34:53.474Z"
   },
   {
    "duration": 167,
    "start_time": "2022-06-26T14:35:02.264Z"
   },
   {
    "duration": 7,
    "start_time": "2022-06-26T14:35:06.523Z"
   },
   {
    "duration": 142,
    "start_time": "2022-06-26T14:43:54.714Z"
   },
   {
    "duration": 77,
    "start_time": "2022-06-26T14:44:42.754Z"
   },
   {
    "duration": 78,
    "start_time": "2022-06-26T14:46:37.765Z"
   },
   {
    "duration": 8,
    "start_time": "2022-06-26T14:50:42.741Z"
   },
   {
    "duration": 9,
    "start_time": "2022-06-26T14:51:01.522Z"
   },
   {
    "duration": 9,
    "start_time": "2022-06-26T14:51:10.999Z"
   },
   {
    "duration": 10,
    "start_time": "2022-06-26T14:51:25.928Z"
   },
   {
    "duration": 9,
    "start_time": "2022-06-26T14:53:22.461Z"
   },
   {
    "duration": 183,
    "start_time": "2022-06-26T14:55:35.376Z"
   },
   {
    "duration": 81,
    "start_time": "2022-06-26T15:01:05.298Z"
   },
   {
    "duration": 72,
    "start_time": "2022-06-26T15:01:10.721Z"
   },
   {
    "duration": 81,
    "start_time": "2022-06-26T15:03:20.732Z"
   },
   {
    "duration": 74,
    "start_time": "2022-06-26T15:03:24.329Z"
   },
   {
    "duration": 4,
    "start_time": "2022-06-26T15:16:48.520Z"
   },
   {
    "duration": 74,
    "start_time": "2022-06-26T15:17:04.835Z"
   },
   {
    "duration": 77,
    "start_time": "2022-06-26T15:17:16.362Z"
   },
   {
    "duration": 72,
    "start_time": "2022-06-26T15:18:07.770Z"
   },
   {
    "duration": 71,
    "start_time": "2022-06-26T15:18:19.097Z"
   },
   {
    "duration": 76,
    "start_time": "2022-06-26T15:18:32.121Z"
   },
   {
    "duration": 6213,
    "start_time": "2022-06-26T15:24:27.604Z"
   },
   {
    "duration": 256,
    "start_time": "2022-06-26T15:24:33.820Z"
   },
   {
    "duration": 14,
    "start_time": "2022-06-26T15:24:34.077Z"
   },
   {
    "duration": 21,
    "start_time": "2022-06-26T15:24:34.092Z"
   },
   {
    "duration": 73,
    "start_time": "2022-06-26T15:24:34.115Z"
   },
   {
    "duration": 7,
    "start_time": "2022-06-26T15:24:34.190Z"
   },
   {
    "duration": 15,
    "start_time": "2022-06-26T15:24:34.199Z"
   },
   {
    "duration": 93,
    "start_time": "2022-06-26T15:24:34.215Z"
   },
   {
    "duration": 8,
    "start_time": "2022-06-26T15:24:34.310Z"
   },
   {
    "duration": 14,
    "start_time": "2022-06-26T15:24:34.320Z"
   },
   {
    "duration": 94,
    "start_time": "2022-06-26T15:24:34.336Z"
   },
   {
    "duration": 10,
    "start_time": "2022-06-26T15:24:34.433Z"
   },
   {
    "duration": 13,
    "start_time": "2022-06-26T15:24:34.445Z"
   },
   {
    "duration": 68,
    "start_time": "2022-06-26T15:24:34.461Z"
   },
   {
    "duration": 7,
    "start_time": "2022-06-26T15:24:34.532Z"
   },
   {
    "duration": 12,
    "start_time": "2022-06-26T15:24:34.540Z"
   },
   {
    "duration": 79,
    "start_time": "2022-06-26T15:24:34.554Z"
   },
   {
    "duration": 75,
    "start_time": "2022-06-26T15:24:34.635Z"
   },
   {
    "duration": 7,
    "start_time": "2022-06-26T15:24:34.712Z"
   },
   {
    "duration": 80,
    "start_time": "2022-06-26T15:24:34.721Z"
   },
   {
    "duration": 7,
    "start_time": "2022-06-26T15:24:34.803Z"
   },
   {
    "duration": 11,
    "start_time": "2022-06-26T15:24:34.811Z"
   },
   {
    "duration": 75,
    "start_time": "2022-06-26T15:24:34.824Z"
   },
   {
    "duration": 6,
    "start_time": "2022-06-26T15:24:34.901Z"
   },
   {
    "duration": 77,
    "start_time": "2022-06-26T15:24:34.909Z"
   },
   {
    "duration": 74,
    "start_time": "2022-06-26T15:24:34.988Z"
   },
   {
    "duration": 6,
    "start_time": "2022-06-26T15:24:35.063Z"
   },
   {
    "duration": 10,
    "start_time": "2022-06-26T15:24:35.071Z"
   },
   {
    "duration": 73,
    "start_time": "2022-06-26T15:24:35.082Z"
   },
   {
    "duration": 71,
    "start_time": "2022-06-26T15:24:35.157Z"
   },
   {
    "duration": 72,
    "start_time": "2022-06-26T15:24:35.230Z"
   },
   {
    "duration": 10110,
    "start_time": "2022-06-27T07:24:52.090Z"
   },
   {
    "duration": 59,
    "start_time": "2022-06-27T07:25:02.201Z"
   },
   {
    "duration": 13,
    "start_time": "2022-06-27T07:25:02.261Z"
   },
   {
    "duration": 13,
    "start_time": "2022-06-27T07:25:02.276Z"
   },
   {
    "duration": 13,
    "start_time": "2022-06-27T07:25:02.290Z"
   },
   {
    "duration": 6,
    "start_time": "2022-06-27T07:25:02.304Z"
   },
   {
    "duration": 30,
    "start_time": "2022-06-27T07:25:02.312Z"
   },
   {
    "duration": 62,
    "start_time": "2022-06-27T07:25:02.344Z"
   },
   {
    "duration": 7,
    "start_time": "2022-06-27T07:25:02.407Z"
   },
   {
    "duration": 17,
    "start_time": "2022-06-27T07:25:02.416Z"
   },
   {
    "duration": 25,
    "start_time": "2022-06-27T07:25:02.434Z"
   },
   {
    "duration": 7,
    "start_time": "2022-06-27T07:25:02.460Z"
   },
   {
    "duration": 19,
    "start_time": "2022-06-27T07:25:02.468Z"
   },
   {
    "duration": 13,
    "start_time": "2022-06-27T07:25:02.489Z"
   },
   {
    "duration": 20,
    "start_time": "2022-06-27T07:25:02.503Z"
   },
   {
    "duration": 25,
    "start_time": "2022-06-27T07:25:02.524Z"
   },
   {
    "duration": 17,
    "start_time": "2022-06-27T07:25:02.550Z"
   },
   {
    "duration": 15,
    "start_time": "2022-06-27T07:25:02.568Z"
   },
   {
    "duration": 6,
    "start_time": "2022-06-27T07:25:02.585Z"
   },
   {
    "duration": 26,
    "start_time": "2022-06-27T07:25:02.593Z"
   },
   {
    "duration": 8,
    "start_time": "2022-06-27T07:25:02.620Z"
   },
   {
    "duration": 11,
    "start_time": "2022-06-27T07:25:02.630Z"
   },
   {
    "duration": 14,
    "start_time": "2022-06-27T07:25:02.642Z"
   },
   {
    "duration": 7,
    "start_time": "2022-06-27T07:25:02.658Z"
   },
   {
    "duration": 23,
    "start_time": "2022-06-27T07:25:02.666Z"
   },
   {
    "duration": 27,
    "start_time": "2022-06-27T07:25:02.691Z"
   },
   {
    "duration": 8,
    "start_time": "2022-06-27T07:25:02.719Z"
   },
   {
    "duration": 14,
    "start_time": "2022-06-27T07:25:02.730Z"
   },
   {
    "duration": 17,
    "start_time": "2022-06-27T07:25:02.745Z"
   },
   {
    "duration": 11,
    "start_time": "2022-06-27T07:25:02.764Z"
   },
   {
    "duration": 13,
    "start_time": "2022-06-27T07:25:02.776Z"
   },
   {
    "duration": 11650,
    "start_time": "2022-06-27T12:00:37.220Z"
   },
   {
    "duration": 229,
    "start_time": "2022-06-27T12:00:48.873Z"
   },
   {
    "duration": 16,
    "start_time": "2022-06-27T12:00:49.103Z"
   },
   {
    "duration": 30,
    "start_time": "2022-06-27T12:00:49.121Z"
   },
   {
    "duration": 70,
    "start_time": "2022-06-27T12:00:49.153Z"
   },
   {
    "duration": 7,
    "start_time": "2022-06-27T12:00:49.224Z"
   },
   {
    "duration": 12,
    "start_time": "2022-06-27T12:00:49.232Z"
   },
   {
    "duration": 84,
    "start_time": "2022-06-27T12:00:49.245Z"
   },
   {
    "duration": 7,
    "start_time": "2022-06-27T12:00:49.331Z"
   },
   {
    "duration": 33,
    "start_time": "2022-06-27T12:00:49.340Z"
   },
   {
    "duration": 83,
    "start_time": "2022-06-27T12:00:49.374Z"
   },
   {
    "duration": 7,
    "start_time": "2022-06-27T12:00:49.458Z"
   },
   {
    "duration": 15,
    "start_time": "2022-06-27T12:00:49.467Z"
   },
   {
    "duration": 68,
    "start_time": "2022-06-27T12:00:49.484Z"
   },
   {
    "duration": 6,
    "start_time": "2022-06-27T12:00:49.553Z"
   },
   {
    "duration": 14,
    "start_time": "2022-06-27T12:00:49.561Z"
   },
   {
    "duration": 76,
    "start_time": "2022-06-27T12:00:49.577Z"
   },
   {
    "duration": 69,
    "start_time": "2022-06-27T12:00:49.655Z"
   },
   {
    "duration": 7,
    "start_time": "2022-06-27T12:00:49.726Z"
   },
   {
    "duration": 81,
    "start_time": "2022-06-27T12:00:49.735Z"
   },
   {
    "duration": 8,
    "start_time": "2022-06-27T12:00:49.817Z"
   },
   {
    "duration": 22,
    "start_time": "2022-06-27T12:00:49.826Z"
   },
   {
    "duration": 84,
    "start_time": "2022-06-27T12:00:49.850Z"
   },
   {
    "duration": 8,
    "start_time": "2022-06-27T12:00:49.937Z"
   },
   {
    "duration": 81,
    "start_time": "2022-06-27T12:00:49.947Z"
   },
   {
    "duration": 69,
    "start_time": "2022-06-27T12:00:50.030Z"
   },
   {
    "duration": 7,
    "start_time": "2022-06-27T12:00:50.100Z"
   },
   {
    "duration": 11,
    "start_time": "2022-06-27T12:00:50.110Z"
   },
   {
    "duration": 69,
    "start_time": "2022-06-27T12:00:50.123Z"
   },
   {
    "duration": 63,
    "start_time": "2022-06-27T12:00:50.193Z"
   },
   {
    "duration": 64,
    "start_time": "2022-06-27T12:00:50.258Z"
   },
   {
    "duration": 65,
    "start_time": "2022-06-27T15:11:08.974Z"
   },
   {
    "duration": 65,
    "start_time": "2022-06-27T15:11:10.946Z"
   },
   {
    "duration": 6724,
    "start_time": "2022-06-28T10:34:54.665Z"
   },
   {
    "duration": 246,
    "start_time": "2022-06-28T10:35:01.393Z"
   },
   {
    "duration": 19,
    "start_time": "2022-06-28T10:35:01.641Z"
   },
   {
    "duration": 22,
    "start_time": "2022-06-28T10:35:01.663Z"
   },
   {
    "duration": 87,
    "start_time": "2022-06-28T10:35:01.688Z"
   },
   {
    "duration": 8,
    "start_time": "2022-06-28T10:35:01.777Z"
   },
   {
    "duration": 19,
    "start_time": "2022-06-28T10:35:01.787Z"
   },
   {
    "duration": 98,
    "start_time": "2022-06-28T10:35:01.808Z"
   },
   {
    "duration": 9,
    "start_time": "2022-06-28T10:35:01.909Z"
   },
   {
    "duration": 17,
    "start_time": "2022-06-28T10:35:01.922Z"
   },
   {
    "duration": 84,
    "start_time": "2022-06-28T10:35:01.941Z"
   },
   {
    "duration": 10,
    "start_time": "2022-06-28T10:35:02.027Z"
   },
   {
    "duration": 23,
    "start_time": "2022-06-28T10:35:02.038Z"
   },
   {
    "duration": 88,
    "start_time": "2022-06-28T10:35:02.063Z"
   },
   {
    "duration": 9,
    "start_time": "2022-06-28T10:35:02.155Z"
   },
   {
    "duration": 35,
    "start_time": "2022-06-28T10:35:02.166Z"
   },
   {
    "duration": 73,
    "start_time": "2022-06-28T10:35:02.203Z"
   },
   {
    "duration": 67,
    "start_time": "2022-06-28T10:35:29.629Z"
   },
   {
    "duration": 4,
    "start_time": "2022-06-28T11:09:04.155Z"
   },
   {
    "duration": 90,
    "start_time": "2022-06-28T11:09:07.773Z"
   },
   {
    "duration": 87,
    "start_time": "2022-06-28T11:09:50.465Z"
   },
   {
    "duration": 88,
    "start_time": "2022-06-28T11:13:06.546Z"
   },
   {
    "duration": 5774,
    "start_time": "2022-06-28T11:13:27.636Z"
   },
   {
    "duration": 228,
    "start_time": "2022-06-28T11:13:33.412Z"
   },
   {
    "duration": 15,
    "start_time": "2022-06-28T11:13:33.642Z"
   },
   {
    "duration": 11,
    "start_time": "2022-06-28T11:13:33.659Z"
   },
   {
    "duration": 68,
    "start_time": "2022-06-28T11:13:33.671Z"
   },
   {
    "duration": 7,
    "start_time": "2022-06-28T11:13:33.740Z"
   },
   {
    "duration": 13,
    "start_time": "2022-06-28T11:13:33.749Z"
   },
   {
    "duration": 92,
    "start_time": "2022-06-28T11:13:33.763Z"
   },
   {
    "duration": 7,
    "start_time": "2022-06-28T11:13:33.857Z"
   },
   {
    "duration": 16,
    "start_time": "2022-06-28T11:13:33.867Z"
   },
   {
    "duration": 81,
    "start_time": "2022-06-28T11:13:33.885Z"
   },
   {
    "duration": 7,
    "start_time": "2022-06-28T11:13:33.968Z"
   },
   {
    "duration": 14,
    "start_time": "2022-06-28T11:13:33.977Z"
   },
   {
    "duration": 62,
    "start_time": "2022-06-28T11:13:33.993Z"
   },
   {
    "duration": 7,
    "start_time": "2022-06-28T11:13:34.057Z"
   },
   {
    "duration": 14,
    "start_time": "2022-06-28T11:13:34.066Z"
   },
   {
    "duration": 68,
    "start_time": "2022-06-28T11:13:34.082Z"
   },
   {
    "duration": 67,
    "start_time": "2022-06-28T11:13:34.152Z"
   },
   {
    "duration": 7,
    "start_time": "2022-06-28T11:13:34.221Z"
   },
   {
    "duration": 77,
    "start_time": "2022-06-28T11:13:34.230Z"
   },
   {
    "duration": 7,
    "start_time": "2022-06-28T11:13:34.309Z"
   },
   {
    "duration": 77,
    "start_time": "2022-06-28T11:13:34.318Z"
   },
   {
    "duration": 9,
    "start_time": "2022-06-28T11:13:34.397Z"
   },
   {
    "duration": 75,
    "start_time": "2022-06-28T11:13:34.407Z"
   },
   {
    "duration": 9,
    "start_time": "2022-06-28T11:13:34.484Z"
   },
   {
    "duration": 79,
    "start_time": "2022-06-28T11:13:34.495Z"
   },
   {
    "duration": 68,
    "start_time": "2022-06-28T11:13:34.576Z"
   },
   {
    "duration": 7,
    "start_time": "2022-06-28T11:13:34.648Z"
   },
   {
    "duration": 11,
    "start_time": "2022-06-28T11:13:34.656Z"
   },
   {
    "duration": 69,
    "start_time": "2022-06-28T11:13:34.669Z"
   },
   {
    "duration": 67,
    "start_time": "2022-06-28T11:13:34.739Z"
   },
   {
    "duration": 66,
    "start_time": "2022-06-28T11:13:34.807Z"
   },
   {
    "duration": 86,
    "start_time": "2022-06-28T11:18:09.993Z"
   },
   {
    "duration": 96,
    "start_time": "2022-06-28T11:18:50.089Z"
   },
   {
    "duration": 56,
    "start_time": "2022-06-28T11:20:24.581Z"
   },
   {
    "duration": 91,
    "start_time": "2022-06-28T11:20:48.839Z"
   },
   {
    "duration": 89,
    "start_time": "2022-06-28T11:21:51.499Z"
   },
   {
    "duration": 64,
    "start_time": "2022-06-28T11:23:52.470Z"
   },
   {
    "duration": 67,
    "start_time": "2022-06-28T11:24:08.786Z"
   },
   {
    "duration": 64,
    "start_time": "2022-06-28T11:24:23.897Z"
   },
   {
    "duration": 64,
    "start_time": "2022-06-28T11:31:25.728Z"
   },
   {
    "duration": 5,
    "start_time": "2022-06-28T11:31:57.744Z"
   },
   {
    "duration": 10,
    "start_time": "2022-06-28T11:32:03.042Z"
   },
   {
    "duration": 11,
    "start_time": "2022-06-28T11:32:07.059Z"
   },
   {
    "duration": 12,
    "start_time": "2022-06-28T11:32:22.464Z"
   },
   {
    "duration": 11,
    "start_time": "2022-06-28T11:32:39.395Z"
   },
   {
    "duration": 12,
    "start_time": "2022-06-28T11:32:51.064Z"
   },
   {
    "duration": 11,
    "start_time": "2022-06-28T11:32:58.669Z"
   },
   {
    "duration": 12,
    "start_time": "2022-06-28T11:33:06.342Z"
   },
   {
    "duration": 12,
    "start_time": "2022-06-28T11:33:16.037Z"
   },
   {
    "duration": 91,
    "start_time": "2022-06-28T11:33:47.535Z"
   },
   {
    "duration": 12070,
    "start_time": "2022-06-28T17:43:53.883Z"
   },
   {
    "duration": 58,
    "start_time": "2022-06-28T17:44:05.955Z"
   },
   {
    "duration": 14,
    "start_time": "2022-06-28T17:44:06.015Z"
   },
   {
    "duration": 10,
    "start_time": "2022-06-28T17:44:06.031Z"
   },
   {
    "duration": 13,
    "start_time": "2022-06-28T17:44:06.043Z"
   },
   {
    "duration": 8,
    "start_time": "2022-06-28T17:44:06.058Z"
   },
   {
    "duration": 6,
    "start_time": "2022-06-28T17:44:06.067Z"
   },
   {
    "duration": 11,
    "start_time": "2022-06-28T17:44:06.075Z"
   },
   {
    "duration": 14,
    "start_time": "2022-06-28T17:44:06.087Z"
   },
   {
    "duration": 20,
    "start_time": "2022-06-28T17:44:06.104Z"
   },
   {
    "duration": 6,
    "start_time": "2022-06-28T17:44:06.126Z"
   },
   {
    "duration": 28,
    "start_time": "2022-06-28T17:44:06.134Z"
   },
   {
    "duration": 13,
    "start_time": "2022-06-28T17:44:06.164Z"
   },
   {
    "duration": 13,
    "start_time": "2022-06-28T17:44:06.178Z"
   },
   {
    "duration": 7,
    "start_time": "2022-06-28T17:44:06.193Z"
   },
   {
    "duration": 11,
    "start_time": "2022-06-28T17:44:06.202Z"
   },
   {
    "duration": 39,
    "start_time": "2022-06-28T17:44:06.214Z"
   },
   {
    "duration": 7,
    "start_time": "2022-06-28T17:44:06.255Z"
   },
   {
    "duration": 6,
    "start_time": "2022-06-28T17:44:06.264Z"
   },
   {
    "duration": 10,
    "start_time": "2022-06-28T17:44:06.272Z"
   },
   {
    "duration": 12,
    "start_time": "2022-06-28T17:44:06.283Z"
   },
   {
    "duration": 19,
    "start_time": "2022-06-28T17:44:06.296Z"
   },
   {
    "duration": 14,
    "start_time": "2022-06-28T17:44:06.317Z"
   },
   {
    "duration": 37,
    "start_time": "2022-06-28T17:44:06.333Z"
   },
   {
    "duration": 7,
    "start_time": "2022-06-28T17:44:06.371Z"
   },
   {
    "duration": 24,
    "start_time": "2022-06-28T17:44:06.379Z"
   },
   {
    "duration": 6,
    "start_time": "2022-06-28T17:44:06.404Z"
   },
   {
    "duration": 14,
    "start_time": "2022-06-28T17:44:06.412Z"
   },
   {
    "duration": 7,
    "start_time": "2022-06-28T17:44:06.427Z"
   },
   {
    "duration": 31,
    "start_time": "2022-06-28T17:44:06.436Z"
   },
   {
    "duration": 15,
    "start_time": "2022-06-28T17:44:06.469Z"
   },
   {
    "duration": 7,
    "start_time": "2022-06-28T17:44:06.485Z"
   },
   {
    "duration": 8,
    "start_time": "2022-06-28T17:44:06.494Z"
   },
   {
    "duration": 15,
    "start_time": "2022-06-28T17:44:06.503Z"
   },
   {
    "duration": 12,
    "start_time": "2022-06-28T17:44:06.519Z"
   },
   {
    "duration": 31,
    "start_time": "2022-06-28T17:44:06.532Z"
   },
   {
    "duration": 13,
    "start_time": "2022-06-28T17:45:56.016Z"
   },
   {
    "duration": 10,
    "start_time": "2022-06-28T17:46:35.396Z"
   }
  ],
  "kernelspec": {
   "display_name": "Python 3 (ipykernel)",
   "language": "python",
   "name": "python3"
  },
  "language_info": {
   "codemirror_mode": {
    "name": "ipython",
    "version": 3
   },
   "file_extension": ".py",
   "mimetype": "text/x-python",
   "name": "python",
   "nbconvert_exporter": "python",
   "pygments_lexer": "ipython3",
   "version": "3.9.5"
  },
  "toc": {
   "base_numbering": 1,
   "nav_menu": {},
   "number_sections": true,
   "sideBar": true,
   "skip_h1_title": true,
   "title_cell": "Table of Contents",
   "title_sidebar": "Contents",
   "toc_cell": false,
   "toc_position": {},
   "toc_section_display": true,
   "toc_window_display": false
  }
 },
 "nbformat": 4,
 "nbformat_minor": 5
}
